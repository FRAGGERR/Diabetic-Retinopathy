{
 "cells": [
  {
   "cell_type": "code",
   "execution_count": null,
   "metadata": {
    "colab": {
     "base_uri": "https://localhost:8080/"
    },
    "id": "_TxacleQrwVm",
    "outputId": "a07c39f9-337d-4617-f371-d05a7663b4d4"
   },
   "outputs": [
    {
     "name": "stdout",
     "output_type": "stream",
     "text": [
      "Mounted at /content/drive\n"
     ]
    }
   ],
   "source": [
    "from google.colab import drive\n",
    "drive.mount('/content/drive')"
   ]
  },
  {
   "cell_type": "code",
   "execution_count": null,
   "metadata": {
    "id": "VgPcIJyMxBts"
   },
   "outputs": [],
   "source": [
    "import keras\n",
    "import keras.utils\n",
    "from keras import utils as np_utils"
   ]
  },
  {
   "cell_type": "code",
   "execution_count": null,
   "metadata": {
    "id": "SLYKAXmmzg1F"
   },
   "outputs": [],
   "source": [
    "import tensorflow.keras.layers\n",
    "import tensorflow as tf\n",
    "\n"
   ]
  },
  {
   "cell_type": "markdown",
   "metadata": {
    "id": "SnCyUG9R2W7K"
   },
   "source": []
  },
  {
   "cell_type": "code",
   "execution_count": null,
   "metadata": {
    "id": "pw5mPPPzJ5Bx"
   },
   "outputs": [],
   "source": [
    "from keras.models import Model\n",
    "from keras.layers import Input, Conv2D, MaxPooling2D, AveragePooling2D\n",
    "from tensorflow.keras.layers import concatenate\n",
    "from keras.preprocessing.image import ImageDataGenerator\n",
    "from tensorflow.keras.layers import Flatten, Dense, Activation, BatchNormalization\n",
    "from keras.callbacks import ModelCheckpoint, EarlyStopping\n",
    "from keras.models import Sequential\n",
    "from tensorflow.keras.layers import Flatten, Dense, Dropout\n",
    "from tensorflow.keras.layers import Conv2D, MaxPooling2D, ZeroPadding2D\n",
    "from tensorflow.keras.optimizers import SGD, Adam\n",
    "import cv2\n",
    "import numpy as np\n",
    "\n"
   ]
  },
  {
   "cell_type": "code",
   "execution_count": null,
   "metadata": {
    "id": "UhJ0elBCSW_s"
   },
   "outputs": [],
   "source": [
    "from keras import backend as K\n",
    "\n",
    "def recall_m(y_true, y_pred):\n",
    "    true_positives = K.sum(K.round(K.clip(y_true * y_pred, 0, 1)))\n",
    "    possible_positives = K.sum(K.round(K.clip(y_true, 0, 1)))\n",
    "    recall = true_positives / (possible_positives + K.epsilon())\n",
    "    return recall\n",
    "\n",
    "def precision_m(y_true, y_pred):\n",
    "    true_positives = K.sum(K.round(K.clip(y_true * y_pred, 0, 1)))\n",
    "    predicted_positives = K.sum(K.round(K.clip(y_pred, 0, 1)))\n",
    "    precision = true_positives / (predicted_positives + K.epsilon())\n",
    "    return precision\n",
    "\n",
    "def f1_m(y_true, y_pred):\n",
    "    precision = precision_m(y_true, y_pred)\n",
    "    recall = recall_m(y_true, y_pred)\n",
    "    return 2*((precision*recall)/(precision+recall+K.epsilon()))"
   ]
  },
  {
   "cell_type": "code",
   "execution_count": null,
   "metadata": {
    "colab": {
     "base_uri": "https://localhost:8080/"
    },
    "id": "qKKnvlxPJ5CE",
    "outputId": "5d12b57b-2aa5-4f63-c3b2-b8b107309293"
   },
   "outputs": [
    {
     "name": "stdout",
     "output_type": "stream",
     "text": [
      "Found 2208 images belonging to 5 classes.\n",
      "Found 552 images belonging to 5 classes.\n"
     ]
    }
   ],
   "source": [
    "train_datagen_with_aug = ImageDataGenerator(rescale=1./255, validation_split=0.2)\n",
    "\n",
    "train_generator = train_datagen_with_aug.flow_from_directory(\n",
    "    r'/content/drive/My Drive/Dataset/DR',\n",
    "    target_size=(224, 224),\n",
    "    batch_size=32,\n",
    "    # color_mode='grayscale',\n",
    "    class_mode='categorical',\n",
    "    subset='training'\n",
    "    ) # set as training data\n",
    "\n",
    "validation_generator = train_datagen_with_aug.flow_from_directory(\n",
    "    r'/content/drive/My Drive/Dataset/DR', # same directory as training data\n",
    "    target_size=(224, 224),\n",
    "    batch_size=32,\n",
    "    # color_mode='grayscale',\n",
    "    class_mode='categorical',\n",
    "    subset='validation'\n",
    "    ) # set as validation data\n",
    "\n",
    "input_img = Input(shape=(224, 224, 3))"
   ]
  },
  {
   "cell_type": "code",
   "execution_count": null,
   "metadata": {
    "colab": {
     "base_uri": "https://localhost:8080/"
    },
    "id": "YHPQ-utuJ5CP",
    "outputId": "d120c04a-a190-4b25-885e-f60162c74bfb"
   },
   "outputs": [
    {
     "name": "stdout",
     "output_type": "stream",
     "text": [
      "Downloading data from https://storage.googleapis.com/tensorflow/keras-applications/inception_v3/inception_v3_weights_tf_dim_ordering_tf_kernels_notop.h5\n",
      "87910968/87910968 [==============================] - 1s 0us/step\n",
      "Epoch 1/25\n",
      "69/69 [==============================] - 607s 9s/step - loss: 1.2904 - accuracy: 0.5380 - val_loss: 1.1140 - val_accuracy: 0.6232\n",
      "Epoch 2/25\n",
      "69/69 [==============================] - 14s 199ms/step - loss: 1.0521 - accuracy: 0.6214 - val_loss: 1.0117 - val_accuracy: 0.6558\n",
      "Epoch 3/25\n",
      "69/69 [==============================] - 14s 200ms/step - loss: 0.9654 - accuracy: 0.6427 - val_loss: 0.9633 - val_accuracy: 0.6721\n",
      "Epoch 4/25\n",
      "69/69 [==============================] - 14s 196ms/step - loss: 0.9082 - accuracy: 0.6644 - val_loss: 0.9368 - val_accuracy: 0.6667\n",
      "Epoch 5/25\n",
      "69/69 [==============================] - 14s 197ms/step - loss: 0.8653 - accuracy: 0.6825 - val_loss: 0.9156 - val_accuracy: 0.6830\n",
      "Epoch 6/25\n",
      "69/69 [==============================] - 14s 197ms/step - loss: 0.8324 - accuracy: 0.6916 - val_loss: 0.9017 - val_accuracy: 0.6848\n",
      "Epoch 7/25\n",
      "69/69 [==============================] - 14s 203ms/step - loss: 0.8068 - accuracy: 0.7015 - val_loss: 0.8815 - val_accuracy: 0.6902\n",
      "Epoch 8/25\n",
      "69/69 [==============================] - 14s 202ms/step - loss: 0.7816 - accuracy: 0.7151 - val_loss: 0.8757 - val_accuracy: 0.6975\n",
      "Epoch 9/25\n",
      "69/69 [==============================] - 14s 204ms/step - loss: 0.7593 - accuracy: 0.7183 - val_loss: 0.8794 - val_accuracy: 0.6830\n",
      "Epoch 10/25\n",
      "69/69 [==============================] - 14s 201ms/step - loss: 0.7390 - accuracy: 0.7215 - val_loss: 0.8544 - val_accuracy: 0.6993\n",
      "Epoch 11/25\n",
      "69/69 [==============================] - 15s 213ms/step - loss: 0.7229 - accuracy: 0.7287 - val_loss: 0.8493 - val_accuracy: 0.6993\n",
      "Epoch 12/25\n",
      "69/69 [==============================] - 14s 202ms/step - loss: 0.7049 - accuracy: 0.7355 - val_loss: 0.8471 - val_accuracy: 0.7065\n",
      "Epoch 13/25\n",
      "69/69 [==============================] - 14s 201ms/step - loss: 0.6894 - accuracy: 0.7432 - val_loss: 0.8328 - val_accuracy: 0.7083\n",
      "Epoch 14/25\n",
      "69/69 [==============================] - 14s 196ms/step - loss: 0.6754 - accuracy: 0.7518 - val_loss: 0.8354 - val_accuracy: 0.7047\n",
      "Epoch 15/25\n",
      "69/69 [==============================] - 14s 202ms/step - loss: 0.6619 - accuracy: 0.7518 - val_loss: 0.8246 - val_accuracy: 0.7101\n",
      "Epoch 16/25\n",
      "69/69 [==============================] - 14s 198ms/step - loss: 0.6492 - accuracy: 0.7586 - val_loss: 0.8233 - val_accuracy: 0.7120\n",
      "Epoch 17/25\n",
      "69/69 [==============================] - 14s 197ms/step - loss: 0.6368 - accuracy: 0.7699 - val_loss: 0.8183 - val_accuracy: 0.7120\n",
      "Epoch 18/25\n",
      "69/69 [==============================] - 14s 197ms/step - loss: 0.6246 - accuracy: 0.7654 - val_loss: 0.8100 - val_accuracy: 0.7101\n",
      "Epoch 19/25\n",
      "69/69 [==============================] - 14s 198ms/step - loss: 0.6153 - accuracy: 0.7749 - val_loss: 0.8088 - val_accuracy: 0.7156\n",
      "Epoch 20/25\n",
      "69/69 [==============================] - 14s 198ms/step - loss: 0.6035 - accuracy: 0.7858 - val_loss: 0.8091 - val_accuracy: 0.7101\n",
      "Epoch 21/25\n",
      "69/69 [==============================] - 14s 209ms/step - loss: 0.5930 - accuracy: 0.7840 - val_loss: 0.8051 - val_accuracy: 0.7174\n",
      "Epoch 22/25\n",
      "69/69 [==============================] - 14s 199ms/step - loss: 0.5836 - accuracy: 0.7921 - val_loss: 0.8083 - val_accuracy: 0.7065\n",
      "Epoch 23/25\n",
      "69/69 [==============================] - 14s 197ms/step - loss: 0.5733 - accuracy: 0.7985 - val_loss: 0.8021 - val_accuracy: 0.7120\n",
      "Epoch 24/25\n",
      "69/69 [==============================] - 14s 200ms/step - loss: 0.5642 - accuracy: 0.8016 - val_loss: 0.7976 - val_accuracy: 0.7120\n",
      "Epoch 25/25\n",
      "69/69 [==============================] - 13s 195ms/step - loss: 0.5566 - accuracy: 0.8053 - val_loss: 0.7953 - val_accuracy: 0.7156\n",
      "{'loss': [1.2904093265533447, 1.0520879030227661, 0.9653909802436829, 0.9082338213920593, 0.8652598857879639, 0.8323931097984314, 0.8067545294761658, 0.7816202640533447, 0.7592798471450806, 0.7389904260635376, 0.7228500843048096, 0.7049199342727661, 0.6893616318702698, 0.6754273176193237, 0.6618503332138062, 0.6492250561714172, 0.6368395686149597, 0.6245936751365662, 0.6152738332748413, 0.6035487651824951, 0.5930033922195435, 0.5836086869239807, 0.5733368992805481, 0.5641558170318604, 0.5566455721855164], 'accuracy': [0.5380434989929199, 0.6213768124580383, 0.6426630616188049, 0.664402186870575, 0.6825181245803833, 0.6915760636329651, 0.7015398740768433, 0.7151268124580383, 0.7182971239089966, 0.7214673757553101, 0.7287137508392334, 0.7355072498321533, 0.7432065010070801, 0.7518116235733032, 0.7518116235733032, 0.7586050629615784, 0.7699275612831116, 0.7653985619544983, 0.7749094367027283, 0.7857789993286133, 0.7839673757553101, 0.792119562625885, 0.7984601259231567, 0.801630437374115, 0.8052536249160767], 'val_loss': [1.1139676570892334, 1.0117018222808838, 0.9632541537284851, 0.9367969632148743, 0.9155629277229309, 0.9017477631568909, 0.881517231464386, 0.8757472634315491, 0.8794441819190979, 0.8543991446495056, 0.8493049740791321, 0.8470849394798279, 0.8328467607498169, 0.8354126811027527, 0.8246135115623474, 0.8232822418212891, 0.8183326721191406, 0.8100112080574036, 0.8088209629058838, 0.8090668320655823, 0.8051300048828125, 0.8082782030105591, 0.8020613789558411, 0.7976428866386414, 0.7952873706817627], 'val_accuracy': [0.6231883764266968, 0.6557971239089966, 0.6721014380455017, 0.6666666865348816, 0.6829710006713867, 0.6847826242446899, 0.6902173757553101, 0.6974637508392334, 0.6829710006713867, 0.6992753744125366, 0.6992753744125366, 0.70652174949646, 0.7083333134651184, 0.7047101259231567, 0.7101449370384216, 0.7119565010070801, 0.7119565010070801, 0.7101449370384216, 0.7155796885490417, 0.7101449370384216, 0.717391312122345, 0.70652174949646, 0.7119565010070801, 0.7119565010070801, 0.7155796885490417]}\n"
     ]
    }
   ],
   "source": [
    "import keras\n",
    "from keras.layers import Dense, Flatten\n",
    "from keras.optimizers import SGD\n",
    "from keras.preprocessing.image import ImageDataGenerator\n",
    "from tensorflow.keras.applications import InceptionV3\n",
    "import tensorflow.keras.applications\n",
    "\n",
    "\n",
    "# Load DenseNet-169 model without top layers\n",
    "inceptionv3_model = InceptionV3(weights='imagenet', include_top=False, input_shape=(224, 224, 3))\n",
    "\n",
    "# Create a Sequential model\n",
    "inceptionv3 = keras.models.Sequential()\n",
    "\n",
    "# Set layers in densenet169_model to non-trainable\n",
    "for layer in inceptionv3_model.layers:\n",
    "    layer.trainable = False\n",
    "\n",
    "# Add layers to the model\n",
    "inceptionv3.add(inceptionv3_model)\n",
    "inceptionv3.add(Flatten())\n",
    "inceptionv3.add(Dropout(0.2))\n",
    "inceptionv3.add(Dense=1024, activation='relu')\n",
    "inceptionv3.add(Dropout(0.2))\n",
    "inceptionv3.add(Dense(512, activation='relu'))\n",
    "inceptionv3.add(Dense(5, activation='softmax'))\n",
    "\n",
    "# Compile the model\n",
    "adam = Adam(learning_rate=0.001)\n",
    "inceptionv3.compile(optimizer=adam, loss='categorical_crossentropy', metrics=['accuracy', precision_m, recall_m, f1_m])\n",
    "\n",
    "# Assuming you have your ImageDataGenerators set up\n",
    "# train_generator = ...\n",
    "# validation_generator = ...\n",
    "\n",
    "# Train the model\n",
    "graph = inceptionv3.fit(train_generator, epochs=25, validation_data=validation_generator)\n",
    "\n",
    "\n",
    "# Print the results\n",
    "print(graph.history)\n"
   ]
  },
  {
   "cell_type": "code",
   "execution_count": 1,
   "metadata": {
    "colab": {
     "base_uri": "https://localhost:8080/",
     "height": 472
    },
    "id": "QwBY9UhGJ5CT",
    "outputId": "248bbd30-a8e1-4fad-e8e9-d455f4b8740f"
   },
   "outputs": [
    {
     "ename": "NameError",
     "evalue": "name 'graph' is not defined",
     "output_type": "error",
     "traceback": [
      "\u001b[0;31m---------------------------------------------------------------------------\u001b[0m",
      "\u001b[0;31mNameError\u001b[0m                                 Traceback (most recent call last)",
      "Cell \u001b[0;32mIn[1], line 5\u001b[0m\n\u001b[1;32m      1\u001b[0m \u001b[38;5;28;01mimport\u001b[39;00m \u001b[38;5;21;01mmatplotlib\u001b[39;00m\u001b[38;5;21;01m.\u001b[39;00m\u001b[38;5;21;01mpyplot\u001b[39;00m \u001b[38;5;28;01mas\u001b[39;00m \u001b[38;5;21;01mplt\u001b[39;00m\n\u001b[1;32m      3\u001b[0m fig1 \u001b[38;5;241m=\u001b[39m plt\u001b[38;5;241m.\u001b[39mgcf()\n\u001b[0;32m----> 5\u001b[0m plt\u001b[38;5;241m.\u001b[39mplot(graph\u001b[38;5;241m.\u001b[39mhistory[\u001b[38;5;124m'\u001b[39m\u001b[38;5;124maccuracy\u001b[39m\u001b[38;5;124m'\u001b[39m])\n\u001b[1;32m      6\u001b[0m plt\u001b[38;5;241m.\u001b[39mplot(graph\u001b[38;5;241m.\u001b[39mhistory[\u001b[38;5;124m'\u001b[39m\u001b[38;5;124mval_accuracy\u001b[39m\u001b[38;5;124m'\u001b[39m])\n\u001b[1;32m      8\u001b[0m \u001b[38;5;66;03m# plt.axis(ymin=0.4, ymax=1)\u001b[39;00m\n",
      "\u001b[0;31mNameError\u001b[0m: name 'graph' is not defined"
     ]
    },
    {
     "data": {
      "text/plain": [
       "<Figure size 640x480 with 0 Axes>"
      ]
     },
     "metadata": {},
     "output_type": "display_data"
    }
   ],
   "source": [
    "import matplotlib.pyplot as plt\n",
    "\n",
    "fig1 = plt.gcf()\n",
    "\n",
    "plt.plot(graph.history['accuracy'])\n",
    "plt.plot(graph.history['val_accuracy'])\n",
    "\n",
    "# plt.axis(ymin=0.4, ymax=1)\n",
    "plt.grid()\n",
    "\n",
    "plt.title('DenseNet201 Accuracy for DR Dataset')\n",
    "plt.ylabel('Accuracy')\n",
    "plt.xlabel('Epochs')\n",
    "plt.legend(['train','validation'])\n",
    "\n",
    "plt.show()"
   ]
  },
  {
   "cell_type": "code",
   "execution_count": null,
   "metadata": {
    "colab": {
     "base_uri": "https://localhost:8080/",
     "height": 472
    },
    "id": "qeLInV9PEFDV",
    "outputId": "f8f1df2a-ec84-4384-aed0-acc7affd4ba2"
   },
   "outputs": [
    {
     "data": {
      "image/png": "[encoded data removed]",
      "text/plain": [
       "<Figure size 640x480 with 1 Axes>"
      ]
     },
     "metadata": {},
     "output_type": "display_data"
    }
   ],
   "source": [
    "import matplotlib.pyplot as plt\n",
    "\n",
    "fig1 = plt.gcf()\n",
    "\n",
    "plt.plot(graph.history['loss'])\n",
    "plt.plot(graph.history['val_loss'])\n",
    "\n",
    "# plt.axis(ymin=0.4, ymax=1)\n",
    "plt.grid()\n",
    "\n",
    "plt.title('DenseNet201 Loss for DR Dataset')\n",
    "plt.ylabel('Loss')\n",
    "plt.xlabel('Epochs')\n",
    "plt.legend(['train','validation'])\n",
    "\n",
    "plt.show()"
   ]
  }
 ],
 "metadata": {
  "accelerator": "GPU",
  "colab": {
   "provenance": []
  },
  "interpreter": {
   "hash": "80b666c07a6ca165bd4f4c9c2aef797346a64ba3bbd63991c85e4e7511a2128c"
  },
  "kernelspec": {
   "display_name": "Python 3 (ipykernel)",
   "language": "python",
   "name": "python3"
  },
  "language_info": {
   "codemirror_mode": {
    "name": "ipython",
    "version": 3
   },
   "file_extension": ".py",
   "mimetype": "text/x-python",
   "name": "python",
   "nbconvert_exporter": "python",
   "pygments_lexer": "ipython3",
   "version": "3.11.5"
  }
 },
 "nbformat": 4,
 "nbformat_minor": 4
}
