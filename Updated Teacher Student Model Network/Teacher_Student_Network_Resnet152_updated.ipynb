{
 "cells": [
  {
   "cell_type": "code",
   "execution_count": null,
   "metadata": {
    "colab": {
     "base_uri": "https://localhost:8080/"
    },
    "id": "Pue5ETcSjW0c",
    "outputId": "73a7680d-a4b8-453b-9825-59ab61ae36e1"
   },
   "outputs": [
    {
     "name": "stdout",
     "output_type": "stream",
     "text": [
      "Mounted at /content/drive\n"
     ]
    }
   ],
   "source": [
    "from google.colab import drive\n",
    "drive.mount('/content/drive')"
   ]
  },
  {
   "cell_type": "code",
   "execution_count": 1,
   "metadata": {
    "id": "vHJMHq7mq37P"
   },
   "outputs": [],
   "source": [
    "import tensorflow as tf\n",
    "from tensorflow import keras\n",
    "from tensorflow.keras import layers\n",
    "import numpy as np\n"
   ]
  },
  {
   "cell_type": "markdown",
   "metadata": {
    "id": "lSQE006nrfgJ"
   },
   "source": []
  },
  {
   "cell_type": "markdown",
   "metadata": {
    "id": "z8MG7D9lrjb7"
   },
   "source": [
    "Distiller Class"
   ]
  },
  {
   "cell_type": "code",
   "execution_count": null,
   "metadata": {
    "id": "JtNCCJkmI-Ag"
   },
   "outputs": [],
   "source": []
  },
  {
   "cell_type": "code",
   "execution_count": 2,
   "metadata": {
    "id": "QHgbeZourpd0"
   },
   "outputs": [],
   "source": [
    "class Distiller(keras.Model):\n",
    "    def __init__(self, student, teacher):\n",
    "        super(Distiller, self).__init__()\n",
    "        self.teacher = teacher\n",
    "        self.student = student\n",
    "\n",
    "    def compile(\n",
    "        self,\n",
    "        optimizer,\n",
    "        metrics,\n",
    "        student_loss_fn,\n",
    "        distillation_loss_fn,\n",
    "        alpha=0.1,\n",
    "        temperature=3,\n",
    "    ):\n",
    "        \"\"\" Configure the distiller.\n",
    "\n",
    "        Args:\n",
    "            optimizer: Keras optimizer for the student weights\n",
    "            metrics: Keras metrics for evaluation\n",
    "            student_loss_fn: Loss function of difference between student\n",
    "                predictions and ground-truth\n",
    "            distillation_loss_fn: Loss function of difference between soft\n",
    "                student predictions and soft teacher predictions\n",
    "            alpha: weight to student_loss_fn and 1-alpha to distillation_loss_fn\n",
    "            temperature: Temperature for softening probability distributions.\n",
    "                Larger temperature gives softer distributions.\n",
    "        \"\"\"\n",
    "        super(Distiller, self).compile(optimizer=optimizer, metrics=metrics)\n",
    "        self.student_loss_fn = student_loss_fn\n",
    "        self.distillation_loss_fn = distillation_loss_fn\n",
    "        self.alpha = alpha\n",
    "        self.temperature = temperature\n",
    "\n",
    "    def train_step(self, data):\n",
    "        # Unpack data\n",
    "        x, y = data\n",
    "\n",
    "        # Forward pass of teacher\n",
    "        teacher_predictions = self.teacher(x, training=False)\n",
    "\n",
    "        with tf.GradientTape() as tape:\n",
    "            # Forward pass of student\n",
    "            student_predictions = self.student(x, training=True)\n",
    "\n",
    "            # Compute losses\n",
    "            student_loss = self.student_loss_fn(y, student_predictions)\n",
    "\n",
    "            # Compute scaled distillation loss from https://arxiv.org/abs/1503.02531\n",
    "            # The magnitudes of the gradients produced by the soft targets scale\n",
    "            # as 1/T^2, multiply them by T^2 when using both hard and soft targets.\n",
    "            distillation_loss = (\n",
    "                self.distillation_loss_fn(\n",
    "                    tf.nn.softmax(teacher_predictions / self.temperature, axis=1),\n",
    "                    tf.nn.softmax(student_predictions / self.temperature, axis=1),\n",
    "                )\n",
    "                * self.temperature**2\n",
    "            )\n",
    "\n",
    "            loss = self.alpha * student_loss + (1 - self.alpha) * distillation_loss\n",
    "\n",
    "        # Compute gradients\n",
    "        trainable_vars = self.student.trainable_variables\n",
    "        gradients = tape.gradient(loss, trainable_vars)\n",
    "\n",
    "        # Update weights\n",
    "        self.optimizer.apply_gradients(zip(gradients, trainable_vars))\n",
    "\n",
    "        # Update the metrics configured in `compile()`.\n",
    "        self.compiled_metrics.update_state(y, student_predictions)\n",
    "\n",
    "        # Return a dict of performance\n",
    "        results = {m.name: m.result() for m in self.metrics}\n",
    "        results.update(\n",
    "            {\"student_loss\": student_loss, \"distillation_loss\": distillation_loss}\n",
    "        )\n",
    "        return results\n",
    "\n",
    "    def test_step(self, data):\n",
    "        # Unpack the data\n",
    "        x, y = data\n",
    "\n",
    "        # Compute predictions\n",
    "        y_prediction = self.student(x, training=False)\n",
    "\n",
    "        # Calculate the loss\n",
    "        student_loss = self.student_loss_fn(y, y_prediction)\n",
    "\n",
    "        # Update the metrics.\n",
    "        self.compiled_metrics.update_state(y, y_prediction)\n",
    "\n",
    "        # Return a dict of performance\n",
    "        results = {m.name: m.result() for m in self.metrics}\n",
    "        results.update({\"student_loss\": student_loss})\n",
    "        return results"
   ]
  },
  {
   "cell_type": "markdown",
   "metadata": {
    "id": "wyZ64m6Fr_Jp"
   },
   "source": [
    "Creating Teacher and Student Model"
   ]
  },
  {
   "cell_type": "code",
   "execution_count": null,
   "metadata": {
    "id": "k_rryJTb0HEF"
   },
   "outputs": [],
   "source": []
  },
  {
   "cell_type": "code",
   "execution_count": 3,
   "metadata": {
    "colab": {
     "base_uri": "https://localhost:8080/"
    },
    "id": "I1UNXHvkn83h",
    "outputId": "6ddec359-aa2c-4557-9cea-cd14ffe73b18"
   },
   "outputs": [
    {
     "name": "stdout",
     "output_type": "stream",
     "text": [
      "Found 2216 images belonging to 5 classes.\n",
      "Found 554 images belonging to 5 classes.\n"
     ]
    }
   ],
   "source": [
    "from keras.preprocessing.image import ImageDataGenerator\n",
    "train_datagen_with_aug = ImageDataGenerator(rescale=1./255, validation_split=0.2)\n",
    "train_generator = train_datagen_with_aug.flow_from_directory(\n",
    "    r'/Users/hardikchhipa/Desktop/DR-IMG_SET',\n",
    "    target_size=(224, 224),\n",
    "    batch_size=32,\n",
    "    # color_mode='grayscale',\n",
    "    class_mode='sparse',\n",
    "    subset='training'\n",
    "    ) # set as training data\n",
    "\n",
    "validation_generator = train_datagen_with_aug.flow_from_directory(\n",
    "    r'/Users/hardikchhipa/Desktop/DR-IMG_SET', # same directory as training data\n",
    "    target_size=(224, 224),\n",
    "    batch_size=32,\n",
    "    # color_mode='grayscale',\n",
    "    class_mode='sparse',\n",
    "    subset='validation'\n",
    "    ) # set as validation data\n",
    "\n",
    "#input_img = Input(shape=(224, 224, 3))"
   ]
  },
  {
   "cell_type": "code",
   "execution_count": 4,
   "metadata": {
    "id": "eyQ-FL5QikR7"
   },
   "outputs": [],
   "source": [
    "from keras.models import Model\n",
    "from keras.layers import Input\n",
    "from keras.layers import Conv2D\n",
    "from keras.layers import MaxPooling2D, AveragePooling2D\n",
    "# from keras.layers.merge import concatenate\n",
    "\n",
    "from keras.preprocessing.image import ImageDataGenerator\n",
    "from keras.layers import Flatten, Dense\n",
    "from keras.layers import Activation\n",
    "from keras.layers import BatchNormalization\n",
    "from keras.callbacks import ModelCheckpoint, EarlyStopping\n",
    "\n",
    "from tensorflow import keras\n",
    "from tensorflow.keras import layers\n",
    "from keras.models import Sequential\n",
    "from tensorflow.keras.layers import Flatten, Dense, Dropout\n",
    "from keras.layers import Input, Conv2D, MaxPooling2D, AveragePooling2D\n",
    "from tensorflow.keras.optimizers import Adam\n",
    "import numpy as np"
   ]
  },
  {
   "cell_type": "code",
   "execution_count": 7,
   "metadata": {
    "colab": {
     "base_uri": "https://localhost:8080/"
    },
    "id": "DMgaVo4EsCYc",
    "outputId": "1591d518-9ab1-46f5-bdd5-419532c9b058"
   },
   "outputs": [
    {
     "name": "stdout",
     "output_type": "stream",
     "text": [
      "Model: \"sequential_2\"\n",
      "_________________________________________________________________\n",
      " Layer (type)                Output Shape              Param #   \n",
      "=================================================================\n",
      " resnet152 (Functional)      (None, 7, 7, 2048)        58370944  \n",
      "                                                                 \n",
      " flatten_4 (Flatten)         (None, 100352)            0         \n",
      "                                                                 \n",
      " dropout_4 (Dropout)         (None, 100352)            0         \n",
      "                                                                 \n",
      " dense_14 (Dense)            (None, 1024)              102761472 \n",
      "                                                                 \n",
      " dropout_5 (Dropout)         (None, 1024)              0         \n",
      "                                                                 \n",
      " dense_15 (Dense)            (None, 512)               524800    \n",
      "                                                                 \n",
      " dense_16 (Dense)            (None, 5)                 2565      \n",
      "                                                                 \n",
      "=================================================================\n",
      "Total params: 161659781 (616.68 MB)\n",
      "Trainable params: 103288837 (394.02 MB)\n",
      "Non-trainable params: 58370944 (222.67 MB)\n",
      "_________________________________________________________________\n",
      "Model: \"student\"\n",
      "_________________________________________________________________\n",
      " Layer (type)                Output Shape              Param #   \n",
      "=================================================================\n",
      " conv2d_16 (Conv2D)          (None, 112, 112, 32)      2432      \n",
      "                                                                 \n",
      " re_lu_16 (ReLU)             (None, 112, 112, 32)      0         \n",
      "                                                                 \n",
      " max_pooling2d_16 (MaxPooli  (None, 56, 56, 32)        0         \n",
      " ng2D)                                                           \n",
      "                                                                 \n",
      " conv2d_17 (Conv2D)          (None, 28, 28, 48)        13872     \n",
      "                                                                 \n",
      " re_lu_17 (ReLU)             (None, 28, 28, 48)        0         \n",
      "                                                                 \n",
      " max_pooling2d_17 (MaxPooli  (None, 14, 14, 48)        0         \n",
      " ng2D)                                                           \n",
      "                                                                 \n",
      " conv2d_18 (Conv2D)          (None, 7, 7, 64)          27712     \n",
      "                                                                 \n",
      " re_lu_18 (ReLU)             (None, 7, 7, 64)          0         \n",
      "                                                                 \n",
      " max_pooling2d_18 (MaxPooli  (None, 4, 4, 64)          0         \n",
      " ng2D)                                                           \n",
      "                                                                 \n",
      " conv2d_19 (Conv2D)          (None, 2, 2, 80)          46160     \n",
      "                                                                 \n",
      " re_lu_19 (ReLU)             (None, 2, 2, 80)          0         \n",
      "                                                                 \n",
      " max_pooling2d_19 (MaxPooli  (None, 1, 1, 80)          0         \n",
      " ng2D)                                                           \n",
      "                                                                 \n",
      " conv2d_20 (Conv2D)          (None, 1, 1, 96)          69216     \n",
      "                                                                 \n",
      " re_lu_20 (ReLU)             (None, 1, 1, 96)          0         \n",
      "                                                                 \n",
      " max_pooling2d_20 (MaxPooli  (None, 1, 1, 96)          0         \n",
      " ng2D)                                                           \n",
      "                                                                 \n",
      " conv2d_21 (Conv2D)          (None, 1, 1, 128)         110720    \n",
      "                                                                 \n",
      " re_lu_21 (ReLU)             (None, 1, 1, 128)         0         \n",
      "                                                                 \n",
      " max_pooling2d_21 (MaxPooli  (None, 1, 1, 128)         0         \n",
      " ng2D)                                                           \n",
      "                                                                 \n",
      " conv2d_22 (Conv2D)          (None, 1, 1, 256)         295168    \n",
      "                                                                 \n",
      " re_lu_22 (ReLU)             (None, 1, 1, 256)         0         \n",
      "                                                                 \n",
      " max_pooling2d_22 (MaxPooli  (None, 1, 1, 256)         0         \n",
      " ng2D)                                                           \n",
      "                                                                 \n",
      " conv2d_23 (Conv2D)          (None, 1, 1, 192)         442560    \n",
      "                                                                 \n",
      " re_lu_23 (ReLU)             (None, 1, 1, 192)         0         \n",
      "                                                                 \n",
      " max_pooling2d_23 (MaxPooli  (None, 1, 1, 192)         0         \n",
      " ng2D)                                                           \n",
      "                                                                 \n",
      " conv2d_24 (Conv2D)          (None, 1, 1, 128)         221312    \n",
      "                                                                 \n",
      " re_lu_24 (ReLU)             (None, 1, 1, 128)         0         \n",
      "                                                                 \n",
      " max_pooling2d_24 (MaxPooli  (None, 1, 1, 128)         0         \n",
      " ng2D)                                                           \n",
      "                                                                 \n",
      " conv2d_25 (Conv2D)          (None, 1, 1, 96)          110688    \n",
      "                                                                 \n",
      " re_lu_25 (ReLU)             (None, 1, 1, 96)          0         \n",
      "                                                                 \n",
      " max_pooling2d_25 (MaxPooli  (None, 1, 1, 96)          0         \n",
      " ng2D)                                                           \n",
      "                                                                 \n",
      " flatten_5 (Flatten)         (None, 96)                0         \n",
      "                                                                 \n",
      " dense_17 (Dense)            (None, 600)               58200     \n",
      "                                                                 \n",
      " dense_18 (Dense)            (None, 300)               180300    \n",
      "                                                                 \n",
      " dense_19 (Dense)            (None, 150)               45150     \n",
      "                                                                 \n",
      " dense_20 (Dense)            (None, 5)                 755       \n",
      "                                                                 \n",
      "=================================================================\n",
      "Total params: 1624245 (6.20 MB)\n",
      "Trainable params: 1624245 (6.20 MB)\n",
      "Non-trainable params: 0 (0.00 Byte)\n",
      "_________________________________________________________________\n"
     ]
    }
   ],
   "source": [
    "# Create the teacher\n",
    "from tensorflow.keras.models import load_model\n",
    "#teacher = load_model('/content/drive/MyDrive/RESNET_152(ADAM_0.01).h5')\n",
    "#teacher = ((\"/content/drive/MyDrive/RESNET_152(ADAM_0.01).h5\"),\n",
    "   # [\n",
    "      #  keras.Input(shape=(28, 28, 1)),\n",
    "       # layers.Conv2D(256, (3, 3), strides=(2, 2), padding=\"same\"),\n",
    "       # layers.LeakyReLU(alpha=0.2),\n",
    "      #  layers.MaxPooling2D(pool_size=(2, 2), strides=(1, 1), padding=\"same\"),\n",
    "       # layers.Conv2D(512, (3, 3), strides=(2, 2), padding=\"same\"),\n",
    "      #  layers.Flatten(),\n",
    "       # layers.Dense(10),\n",
    "   #() ],\n",
    "    #name=\"teacher\"\n",
    "\n",
    "from tensorflow.keras.applications import ResNet152\n",
    "import tensorflow.keras.applications\n",
    "\n",
    "\n",
    "# Load DenseNet-169 model without top layers\n",
    "resnet152_model = ResNet152(weights='imagenet', include_top=False, input_shape=(224, 224, 3))\n",
    "\n",
    "# Create a Sequential model\n",
    "resnet152 = keras.models.Sequential()\n",
    "\n",
    "# Set layers in densenet169_model to non-trainable\n",
    "for layer in resnet152_model.layers:\n",
    "    layer.trainable = False\n",
    "\n",
    "# Add layers to the model\n",
    "resnet152.add(resnet152_model)\n",
    "resnet152.add(Flatten())\n",
    "resnet152.add(Dropout(0.2))\n",
    "resnet152.add(Dense(1024, activation='relu'))\n",
    "resnet152.add(Dropout(0.2))\n",
    "resnet152.add(Dense(512, activation='relu'))\n",
    "resnet152.add(Dense(5, activation='softmax'))\n",
    "\n",
    "\n",
    "resnet152.summary()\n",
    "\n",
    "teacher= resnet152\n",
    "\n",
    "# Create the student\n",
    "student = keras.Sequential(\n",
    "    [\n",
    "        keras.Input(shape=(224, 224, 3)),\n",
    "\n",
    "        layers.Conv2D(32, (5, 5), strides=(2, 2), padding=\"same\"),\n",
    "        layers.ReLU(),\n",
    "        layers.MaxPooling2D(pool_size=(2, 2), strides=(2, 2), padding=\"same\"),\n",
    "\n",
    "        layers.Conv2D(48, (3, 3), strides=(2, 2), padding=\"same\"),\n",
    "        layers.ReLU(),\n",
    "        layers.MaxPooling2D(pool_size=(2, 2), strides=(2, 2), padding=\"same\"),\n",
    "\n",
    "        layers.Conv2D(64, (3, 3), strides=(2, 2), padding=\"same\"),\n",
    "        layers.ReLU(),\n",
    "        layers.MaxPooling2D(pool_size=(2, 2), strides=(2, 2), padding=\"same\"),\n",
    "\n",
    "        layers.Conv2D(80, (3, 3), strides=(2, 2), padding=\"same\"),\n",
    "        layers.ReLU(),\n",
    "        layers.MaxPooling2D(pool_size=(2, 2), strides=(2, 2), padding=\"same\"),\n",
    "\n",
    "        layers.Conv2D(96, (3, 3), strides=(1, 1), padding=\"same\"),\n",
    "        layers.ReLU(),\n",
    "        layers.MaxPooling2D(pool_size=(2, 2), strides=(2, 2), padding=\"same\"),\n",
    "\n",
    "        layers.Conv2D(128, (3, 3), strides=(2, 2), padding=\"same\"),\n",
    "        layers.ReLU(),\n",
    "        layers.MaxPooling2D(pool_size=(2, 2), strides=(2, 2), padding=\"same\"),\n",
    "        \n",
    "        layers.Conv2D(256, (3, 3), strides=(2, 2), padding=\"same\"),\n",
    "        layers.ReLU(),\n",
    "        layers.MaxPooling2D(pool_size=(2, 2), strides=(2, 2), padding=\"same\"),\n",
    "        \n",
    "        layers.Conv2D(192, (3, 3), strides=(2, 2), padding=\"same\"),\n",
    "        layers.ReLU(),\n",
    "        layers.MaxPooling2D(pool_size=(2, 2), strides=(2, 2), padding=\"same\"),\n",
    "        \n",
    "        layers.Conv2D(128, (3, 3), strides=(2, 2), padding=\"same\"),\n",
    "        layers.ReLU(),\n",
    "        layers.MaxPooling2D(pool_size=(2, 2), strides=(2, 2), padding=\"same\"),\n",
    "        \n",
    "        layers.Conv2D(96, (3, 3), strides=(2, 2), padding=\"same\"),\n",
    "        layers.ReLU(),\n",
    "        layers.MaxPooling2D(pool_size=(2, 2), strides=(2, 2), padding=\"same\"),\n",
    "        \n",
    "        layers.Flatten(),\n",
    "        layers.Dense(600),\n",
    "        layers.Dense(300),\n",
    "        layers.Dense(150),\n",
    "        layers.Dense(5),\n",
    "\n",
    "\n",
    "    ],\n",
    "    name=\"student\",\n",
    ")\n",
    "student.summary()\n",
    "\n",
    "# Clone student for later comparison\n",
    "student_scratch = keras.models.clone_model(student)\n"
   ]
  },
  {
   "cell_type": "markdown",
   "metadata": {
    "id": "CVkFoX6Msl4H"
   },
   "source": [
    "Train the Teacher Network and Distill the Teacher weights to Student"
   ]
  },
  {
   "cell_type": "code",
   "execution_count": 8,
   "metadata": {
    "colab": {
     "background_save": true,
     "base_uri": "https://localhost:8080/"
    },
    "id": "9rxYbsMKssBk",
    "outputId": "e1e01a38-1784-4c28-83b5-33da0c9780f3"
   },
   "outputs": [
    {
     "name": "stdout",
     "output_type": "stream",
     "text": [
      "Epoch 1/25\n",
      "70/70 [==============================] - 192s 3s/step - sparse_categorical_accuracy: 0.3637 - student_loss: 1.5427 - distillation_loss: 0.0019 - val_sparse_categorical_accuracy: 0.3682 - val_student_loss: 1.6082\n",
      "Epoch 2/25\n",
      "70/70 [==============================] - 203s 3s/step - sparse_categorical_accuracy: 0.3682 - student_loss: 1.5398 - distillation_loss: 0.0017 - val_sparse_categorical_accuracy: 0.3682 - val_student_loss: 1.6208\n",
      "Epoch 3/25\n",
      "70/70 [==============================] - 215s 3s/step - sparse_categorical_accuracy: 0.3682 - student_loss: 1.5391 - distillation_loss: 0.0017 - val_sparse_categorical_accuracy: 0.3682 - val_student_loss: 1.5496\n",
      "Epoch 4/25\n",
      "70/70 [==============================] - 211s 3s/step - sparse_categorical_accuracy: 0.3682 - student_loss: 1.5382 - distillation_loss: 0.0017 - val_sparse_categorical_accuracy: 0.3682 - val_student_loss: 1.5721\n",
      "Epoch 5/25\n",
      "70/70 [==============================] - 193s 3s/step - sparse_categorical_accuracy: 0.3682 - student_loss: 1.5382 - distillation_loss: 0.0017 - val_sparse_categorical_accuracy: 0.3682 - val_student_loss: 1.4459\n",
      "Epoch 6/25\n",
      "70/70 [==============================] - 189s 3s/step - sparse_categorical_accuracy: 0.3682 - student_loss: 1.5383 - distillation_loss: 0.0017 - val_sparse_categorical_accuracy: 0.3682 - val_student_loss: 1.5325\n",
      "Epoch 7/25\n",
      "70/70 [==============================] - 2064s 30s/step - sparse_categorical_accuracy: 0.3682 - student_loss: 1.5388 - distillation_loss: 0.0017 - val_sparse_categorical_accuracy: 0.3682 - val_student_loss: 1.5729\n",
      "Epoch 8/25\n",
      "70/70 [==============================] - 197s 3s/step - sparse_categorical_accuracy: 0.3682 - student_loss: 1.5384 - distillation_loss: 0.0017 - val_sparse_categorical_accuracy: 0.3682 - val_student_loss: 1.5462\n",
      "Epoch 9/25\n",
      "70/70 [==============================] - 189s 3s/step - sparse_categorical_accuracy: 0.3682 - student_loss: 1.5374 - distillation_loss: 0.0018 - val_sparse_categorical_accuracy: 0.3682 - val_student_loss: 1.5623\n",
      "Epoch 10/25\n",
      "70/70 [==============================] - 194s 3s/step - sparse_categorical_accuracy: 0.3682 - student_loss: 1.5382 - distillation_loss: 0.0019 - val_sparse_categorical_accuracy: 0.3682 - val_student_loss: 1.4948\n",
      "Epoch 11/25\n",
      "70/70 [==============================] - 204s 3s/step - sparse_categorical_accuracy: 0.3682 - student_loss: 1.5391 - distillation_loss: 0.0017 - val_sparse_categorical_accuracy: 0.3682 - val_student_loss: 1.5983\n",
      "Epoch 12/25\n",
      "70/70 [==============================] - 218s 3s/step - sparse_categorical_accuracy: 0.3682 - student_loss: 1.5406 - distillation_loss: 0.0016 - val_sparse_categorical_accuracy: 0.3682 - val_student_loss: 1.4522\n",
      "Epoch 13/25\n",
      "70/70 [==============================] - 233s 3s/step - sparse_categorical_accuracy: 0.3682 - student_loss: 1.5386 - distillation_loss: 0.0017 - val_sparse_categorical_accuracy: 0.3682 - val_student_loss: 1.5781\n",
      "Epoch 14/25\n",
      "70/70 [==============================] - 231s 3s/step - sparse_categorical_accuracy: 0.3682 - student_loss: 1.5385 - distillation_loss: 0.0017 - val_sparse_categorical_accuracy: 0.3682 - val_student_loss: 1.5685\n",
      "Epoch 15/25\n",
      "70/70 [==============================] - 200s 3s/step - sparse_categorical_accuracy: 0.3682 - student_loss: 1.5375 - distillation_loss: 0.0017 - val_sparse_categorical_accuracy: 0.3682 - val_student_loss: 1.5142\n",
      "Epoch 16/25\n",
      "70/70 [==============================] - 191s 3s/step - sparse_categorical_accuracy: 0.3682 - student_loss: 1.5373 - distillation_loss: 0.0017 - val_sparse_categorical_accuracy: 0.3682 - val_student_loss: 1.5642\n",
      "Epoch 17/25\n",
      "70/70 [==============================] - 195s 3s/step - sparse_categorical_accuracy: 0.3682 - student_loss: 1.5392 - distillation_loss: 0.0017 - val_sparse_categorical_accuracy: 0.3682 - val_student_loss: 1.6031\n",
      "Epoch 18/25\n",
      "70/70 [==============================] - 255s 4s/step - sparse_categorical_accuracy: 0.3682 - student_loss: 1.5382 - distillation_loss: 0.0017 - val_sparse_categorical_accuracy: 0.3682 - val_student_loss: 1.5014\n",
      "Epoch 19/25\n",
      "70/70 [==============================] - 230s 3s/step - sparse_categorical_accuracy: 0.3682 - student_loss: 1.5400 - distillation_loss: 0.0017 - val_sparse_categorical_accuracy: 0.3682 - val_student_loss: 1.4564\n",
      "Epoch 20/25\n",
      "70/70 [==============================] - 224s 3s/step - sparse_categorical_accuracy: 0.3682 - student_loss: 1.5384 - distillation_loss: 0.0016 - val_sparse_categorical_accuracy: 0.3682 - val_student_loss: 1.5487\n",
      "Epoch 21/25\n",
      "70/70 [==============================] - 216s 3s/step - sparse_categorical_accuracy: 0.3682 - student_loss: 1.5388 - distillation_loss: 0.0017 - val_sparse_categorical_accuracy: 0.3682 - val_student_loss: 1.5785\n",
      "Epoch 22/25\n",
      "70/70 [==============================] - 218s 3s/step - sparse_categorical_accuracy: 0.3682 - student_loss: 1.5392 - distillation_loss: 0.0017 - val_sparse_categorical_accuracy: 0.3682 - val_student_loss: 1.4736\n",
      "Epoch 23/25\n",
      "70/70 [==============================] - 216s 3s/step - sparse_categorical_accuracy: 0.3682 - student_loss: 1.5396 - distillation_loss: 0.0017 - val_sparse_categorical_accuracy: 0.3682 - val_student_loss: 1.4518\n",
      "Epoch 24/25\n",
      "70/70 [==============================] - 3277s 47s/step - sparse_categorical_accuracy: 0.3682 - student_loss: 1.5380 - distillation_loss: 0.0016 - val_sparse_categorical_accuracy: 0.3682 - val_student_loss: 1.5743\n",
      "Epoch 25/25\n",
      "70/70 [==============================] - 2544s 37s/step - sparse_categorical_accuracy: 0.3682 - student_loss: 1.5385 - distillation_loss: 0.0018 - val_sparse_categorical_accuracy: 0.3682 - val_student_loss: 1.5652\n"
     ]
    },
    {
     "data": {
      "text/plain": [
       "<keras.src.callbacks.History at 0x298ce7110>"
      ]
     },
     "execution_count": 8,
     "metadata": {},
     "output_type": "execute_result"
    }
   ],
   "source": [
    "# Import the legacy optimizer\n",
    "from tensorflow.keras.optimizers import legacy\n",
    "\n",
    "# ...\n",
    "\n",
    "# Initialize and compile distiller with the legacy optimizer\n",
    "distiller = Distiller(student=student, teacher=teacher)\n",
    "distiller.compile(\n",
    "    optimizer=legacy.Adam(),  # Use legacy Adam optimizer\n",
    "    metrics=[keras.metrics.SparseCategoricalAccuracy()],\n",
    "    student_loss_fn=keras.losses.SparseCategoricalCrossentropy(from_logits=True),\n",
    "    distillation_loss_fn=keras.losses.KLDivergence(),\n",
    "    alpha=0.1,\n",
    "    temperature=6,\n",
    ")\n",
    "\n",
    "# Distill teacher to student\n",
    "graph = distiller.fit(train_generator, epochs=25, validation_data=validation_generator)\n",
    "graph\n",
    "\n",
    "# Evaluate student on the test dataset\n",
    "# distiller.evaluate(train_generator, epochs=15, validation_data=validation_generator)\n"
   ]
  },
  {
   "cell_type": "code",
   "execution_count": null,
   "metadata": {
    "id": "GzQjS5y-FE02"
   },
   "outputs": [],
   "source": []
  },
  {
   "cell_type": "code",
   "execution_count": 9,
   "metadata": {
    "colab": {
     "base_uri": "https://localhost:8080/",
     "height": 268
    },
    "id": "1mIIoSYp115J",
    "outputId": "c194ce2f-fb7d-4c26-c626-3986e7a8433b"
   },
   "outputs": [
    {
     "data": {
      "image/png": "[encoded data removed]",
      "text/plain": [
       "<Figure size 640x480 with 1 Axes>"
      ]
     },
     "metadata": {},
     "output_type": "display_data"
    }
   ],
   "source": [
    "import matplotlib.pyplot as plt\n",
    "\n",
    "fig1 = plt.gcf()\n",
    "\n",
    "plt.plot(graph.history['sparse_categorical_accuracy'])\n",
    "plt.plot(graph.history['val_sparse_categorical_accuracy'])\n",
    "\n",
    "# plt.axis(ymin=0.4, ymax=1)\n",
    "plt.grid()\n",
    "\n",
    "plt.title('OSPS-MicroNet model Accuracy to its teacher resnet152')\n",
    "plt.ylabel('Accuracy')\n",
    "plt.xlabel('Epochs')\n",
    "plt.legend(['train','validation'])\n",
    "\n",
    "plt.show()"
   ]
  },
  {
   "cell_type": "code",
   "execution_count": 10,
   "metadata": {
    "colab": {
     "base_uri": "https://localhost:8080/",
     "height": 197
    },
    "id": "M5komxG_zgBG",
    "outputId": "4170f11d-e9c3-413a-a026-6d138334f34d"
   },
   "outputs": [
    {
     "name": "stdout",
     "output_type": "stream",
     "text": [
      "The highest accuracy achieved for OSPS-MicroNet model Accuracy to its teacher resnet152 model is 36.823105812072754\n"
     ]
    }
   ],
   "source": [
    "max_acc = max(graph.history['val_sparse_categorical_accuracy'])\n",
    "print('The highest accuracy achieved for OSPS-MicroNet model Accuracy to its teacher resnet152 model is',max_acc*100)"
   ]
  },
  {
   "cell_type": "code",
   "execution_count": null,
   "metadata": {},
   "outputs": [],
   "source": []
  }
 ],
 "metadata": {
  "accelerator": "TPU",
  "colab": {
   "gpuClass": "premium",
   "machine_shape": "hm",
   "provenance": []
  },
  "gpuClass": "premium",
  "kernelspec": {
   "display_name": "Python 3 (ipykernel)",
   "language": "python",
   "name": "python3"
  },
  "language_info": {
   "codemirror_mode": {
    "name": "ipython",
    "version": 3
   },
   "file_extension": ".py",
   "mimetype": "text/x-python",
   "name": "python",
   "nbconvert_exporter": "python",
   "pygments_lexer": "ipython3",
   "version": "3.11.5"
  }
 },
 "nbformat": 4,
 "nbformat_minor": 4
}
