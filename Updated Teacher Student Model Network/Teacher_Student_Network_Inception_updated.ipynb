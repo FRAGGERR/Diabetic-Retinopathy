{
 "cells": [
  {
   "cell_type": "code",
   "execution_count": null,
   "metadata": {
    "colab": {
     "base_uri": "https://localhost:8080/"
    },
    "id": "Pue5ETcSjW0c",
    "outputId": "73a7680d-a4b8-453b-9825-59ab61ae36e1"
   },
   "outputs": [
    {
     "name": "stdout",
     "output_type": "stream",
     "text": [
      "Mounted at /content/drive\n"
     ]
    }
   ],
   "source": [
    "from google.colab import drive\n",
    "drive.mount('/content/drive')"
   ]
  },
  {
   "cell_type": "code",
   "execution_count": 1,
   "metadata": {
    "id": "vHJMHq7mq37P"
   },
   "outputs": [],
   "source": [
    "import tensorflow as tf\n",
    "from tensorflow import keras\n",
    "from tensorflow.keras import layers\n",
    "import numpy as np\n"
   ]
  },
  {
   "cell_type": "markdown",
   "metadata": {
    "id": "lSQE006nrfgJ"
   },
   "source": []
  },
  {
   "cell_type": "markdown",
   "metadata": {
    "id": "z8MG7D9lrjb7"
   },
   "source": [
    "Distiller Class"
   ]
  },
  {
   "cell_type": "code",
   "execution_count": null,
   "metadata": {
    "id": "JtNCCJkmI-Ag"
   },
   "outputs": [],
   "source": []
  },
  {
   "cell_type": "code",
   "execution_count": 2,
   "metadata": {
    "id": "QHgbeZourpd0"
   },
   "outputs": [],
   "source": [
    "class Distiller(keras.Model):\n",
    "    def __init__(self, student, teacher):\n",
    "        super(Distiller, self).__init__()\n",
    "        self.teacher = teacher\n",
    "        self.student = student\n",
    "\n",
    "    def compile(\n",
    "        self,\n",
    "        optimizer,\n",
    "        metrics,\n",
    "        student_loss_fn,\n",
    "        distillation_loss_fn,\n",
    "        alpha=0.1,\n",
    "        temperature=3,\n",
    "    ):\n",
    "        \"\"\" Configure the distiller.\n",
    "\n",
    "        Args:\n",
    "            optimizer: Keras optimizer for the student weights\n",
    "            metrics: Keras metrics for evaluation\n",
    "            student_loss_fn: Loss function of difference between student\n",
    "                predictions and ground-truth\n",
    "            distillation_loss_fn: Loss function of difference between soft\n",
    "                student predictions and soft teacher predictions\n",
    "            alpha: weight to student_loss_fn and 1-alpha to distillation_loss_fn\n",
    "            temperature: Temperature for softening probability distributions.\n",
    "                Larger temperature gives softer distributions.\n",
    "        \"\"\"\n",
    "        super(Distiller, self).compile(optimizer=optimizer, metrics=metrics)\n",
    "        self.student_loss_fn = student_loss_fn\n",
    "        self.distillation_loss_fn = distillation_loss_fn\n",
    "        self.alpha = alpha\n",
    "        self.temperature = temperature\n",
    "\n",
    "    def train_step(self, data):\n",
    "        # Unpack data\n",
    "        x, y = data\n",
    "\n",
    "        # Forward pass of teacher\n",
    "        teacher_predictions = self.teacher(x, training=False)\n",
    "\n",
    "        with tf.GradientTape() as tape:\n",
    "            # Forward pass of student\n",
    "            student_predictions = self.student(x, training=True)\n",
    "\n",
    "            # Compute losses\n",
    "            student_loss = self.student_loss_fn(y, student_predictions)\n",
    "\n",
    "            # Compute scaled distillation loss from https://arxiv.org/abs/1503.02531\n",
    "            # The magnitudes of the gradients produced by the soft targets scale\n",
    "            # as 1/T^2, multiply them by T^2 when using both hard and soft targets.\n",
    "            distillation_loss = (\n",
    "                self.distillation_loss_fn(\n",
    "                    tf.nn.softmax(teacher_predictions / self.temperature, axis=1),\n",
    "                    tf.nn.softmax(student_predictions / self.temperature, axis=1),\n",
    "                )\n",
    "                * self.temperature**2\n",
    "            )\n",
    "\n",
    "            loss = self.alpha * student_loss + (1 - self.alpha) * distillation_loss\n",
    "\n",
    "        # Compute gradients\n",
    "        trainable_vars = self.student.trainable_variables\n",
    "        gradients = tape.gradient(loss, trainable_vars)\n",
    "\n",
    "        # Update weights\n",
    "        self.optimizer.apply_gradients(zip(gradients, trainable_vars))\n",
    "\n",
    "        # Update the metrics configured in `compile()`.\n",
    "        self.compiled_metrics.update_state(y, student_predictions)\n",
    "\n",
    "        # Return a dict of performance\n",
    "        results = {m.name: m.result() for m in self.metrics}\n",
    "        results.update(\n",
    "            {\"student_loss\": student_loss, \"distillation_loss\": distillation_loss}\n",
    "        )\n",
    "        return results\n",
    "\n",
    "    def test_step(self, data):\n",
    "        # Unpack the data\n",
    "        x, y = data\n",
    "\n",
    "        # Compute predictions\n",
    "        y_prediction = self.student(x, training=False)\n",
    "\n",
    "        # Calculate the loss\n",
    "        student_loss = self.student_loss_fn(y, y_prediction)\n",
    "\n",
    "        # Update the metrics.\n",
    "        self.compiled_metrics.update_state(y, y_prediction)\n",
    "\n",
    "        # Return a dict of performance\n",
    "        results = {m.name: m.result() for m in self.metrics}\n",
    "        results.update({\"student_loss\": student_loss})\n",
    "        return results"
   ]
  },
  {
   "cell_type": "markdown",
   "metadata": {
    "id": "wyZ64m6Fr_Jp"
   },
   "source": [
    "Creating Teacher and Student Model"
   ]
  },
  {
   "cell_type": "code",
   "execution_count": null,
   "metadata": {
    "id": "k_rryJTb0HEF"
   },
   "outputs": [],
   "source": []
  },
  {
   "cell_type": "code",
   "execution_count": 3,
   "metadata": {
    "colab": {
     "base_uri": "https://localhost:8080/"
    },
    "id": "I1UNXHvkn83h",
    "outputId": "6ddec359-aa2c-4557-9cea-cd14ffe73b18"
   },
   "outputs": [
    {
     "name": "stdout",
     "output_type": "stream",
     "text": [
      "Found 2216 images belonging to 5 classes.\n",
      "Found 554 images belonging to 5 classes.\n"
     ]
    }
   ],
   "source": [
    "from keras.preprocessing.image import ImageDataGenerator\n",
    "train_datagen_with_aug = ImageDataGenerator(rescale=1./255, validation_split=0.2)\n",
    "train_generator = train_datagen_with_aug.flow_from_directory(\n",
    "    r'/Users/hardikchhipa/Desktop/DR-IMG_SET',\n",
    "    target_size=(224, 224),\n",
    "    batch_size=32,\n",
    "    # color_mode='grayscale',\n",
    "    class_mode='sparse',\n",
    "    subset='training'\n",
    "    ) # set as training data\n",
    "\n",
    "validation_generator = train_datagen_with_aug.flow_from_directory(\n",
    "    r'/Users/hardikchhipa/Desktop/DR-IMG_SET', # same directory as training data\n",
    "    target_size=(224, 224),\n",
    "    batch_size=32,\n",
    "    # color_mode='grayscale',\n",
    "    class_mode='sparse',\n",
    "    subset='validation'\n",
    "    ) # set as validation data\n",
    "\n",
    "#input_img = Input(shape=(224, 224, 3))"
   ]
  },
  {
   "cell_type": "code",
   "execution_count": 4,
   "metadata": {
    "id": "eyQ-FL5QikR7"
   },
   "outputs": [],
   "source": [
    "from keras.models import Model\n",
    "from keras.layers import Input\n",
    "from keras.layers import Conv2D\n",
    "from keras.layers import MaxPooling2D, AveragePooling2D\n",
    "# from keras.layers.merge import concatenate\n",
    "\n",
    "from keras.preprocessing.image import ImageDataGenerator\n",
    "from keras.layers import Flatten, Dense\n",
    "from keras.layers import Activation\n",
    "from keras.layers import BatchNormalization\n",
    "from keras.callbacks import ModelCheckpoint, EarlyStopping\n",
    "\n",
    "from tensorflow import keras\n",
    "from tensorflow.keras import layers\n",
    "from keras.models import Sequential\n",
    "from tensorflow.keras.layers import Flatten, Dense, Dropout\n",
    "from keras.layers import Input, Conv2D, MaxPooling2D, AveragePooling2D\n",
    "from tensorflow.keras.optimizers import Adam\n",
    "import numpy as np"
   ]
  },
  {
   "cell_type": "code",
   "execution_count": 5,
   "metadata": {
    "colab": {
     "base_uri": "https://localhost:8080/"
    },
    "id": "DMgaVo4EsCYc",
    "outputId": "1591d518-9ab1-46f5-bdd5-419532c9b058"
   },
   "outputs": [
    {
     "name": "stdout",
     "output_type": "stream",
     "text": [
      "Model: \"sequential\"\n",
      "_________________________________________________________________\n",
      " Layer (type)                Output Shape              Param #   \n",
      "=================================================================\n",
      " inception_v3 (Functional)   (None, 5, 5, 2048)        21802784  \n",
      "                                                                 \n",
      " flatten (Flatten)           (None, 51200)             0         \n",
      "                                                                 \n",
      " dropout (Dropout)           (None, 51200)             0         \n",
      "                                                                 \n",
      " dense (Dense)               (None, 1024)              52429824  \n",
      "                                                                 \n",
      " dropout_1 (Dropout)         (None, 1024)              0         \n",
      "                                                                 \n",
      " dense_1 (Dense)             (None, 512)               524800    \n",
      "                                                                 \n",
      " dense_2 (Dense)             (None, 5)                 2565      \n",
      "                                                                 \n",
      "=================================================================\n",
      "Total params: 74759973 (285.19 MB)\n",
      "Trainable params: 52957189 (202.02 MB)\n",
      "Non-trainable params: 21802784 (83.17 MB)\n",
      "_________________________________________________________________\n",
      "Model: \"student\"\n",
      "_________________________________________________________________\n",
      " Layer (type)                Output Shape              Param #   \n",
      "=================================================================\n",
      " conv2d_94 (Conv2D)          (None, 112, 112, 32)      2432      \n",
      "                                                                 \n",
      " re_lu (ReLU)                (None, 112, 112, 32)      0         \n",
      "                                                                 \n",
      " max_pooling2d_4 (MaxPoolin  (None, 56, 56, 32)        0         \n",
      " g2D)                                                            \n",
      "                                                                 \n",
      " conv2d_95 (Conv2D)          (None, 28, 28, 48)        13872     \n",
      "                                                                 \n",
      " re_lu_1 (ReLU)              (None, 28, 28, 48)        0         \n",
      "                                                                 \n",
      " max_pooling2d_5 (MaxPoolin  (None, 14, 14, 48)        0         \n",
      " g2D)                                                            \n",
      "                                                                 \n",
      " conv2d_96 (Conv2D)          (None, 7, 7, 64)          27712     \n",
      "                                                                 \n",
      " re_lu_2 (ReLU)              (None, 7, 7, 64)          0         \n",
      "                                                                 \n",
      " max_pooling2d_6 (MaxPoolin  (None, 4, 4, 64)          0         \n",
      " g2D)                                                            \n",
      "                                                                 \n",
      " conv2d_97 (Conv2D)          (None, 2, 2, 128)         73856     \n",
      "                                                                 \n",
      " re_lu_3 (ReLU)              (None, 2, 2, 128)         0         \n",
      "                                                                 \n",
      " max_pooling2d_7 (MaxPoolin  (None, 1, 1, 128)         0         \n",
      " g2D)                                                            \n",
      "                                                                 \n",
      " conv2d_98 (Conv2D)          (None, 1, 1, 256)         295168    \n",
      "                                                                 \n",
      " re_lu_4 (ReLU)              (None, 1, 1, 256)         0         \n",
      "                                                                 \n",
      " max_pooling2d_8 (MaxPoolin  (None, 1, 1, 256)         0         \n",
      " g2D)                                                            \n",
      "                                                                 \n",
      " conv2d_99 (Conv2D)          (None, 1, 1, 128)         295040    \n",
      "                                                                 \n",
      " re_lu_5 (ReLU)              (None, 1, 1, 128)         0         \n",
      "                                                                 \n",
      " max_pooling2d_9 (MaxPoolin  (None, 1, 1, 128)         0         \n",
      " g2D)                                                            \n",
      "                                                                 \n",
      " flatten_1 (Flatten)         (None, 128)               0         \n",
      "                                                                 \n",
      " dense_3 (Dense)             (None, 600)               77400     \n",
      "                                                                 \n",
      " dense_4 (Dense)             (None, 300)               180300    \n",
      "                                                                 \n",
      " dense_5 (Dense)             (None, 150)               45150     \n",
      "                                                                 \n",
      " dense_6 (Dense)             (None, 5)                 755       \n",
      "                                                                 \n",
      "=================================================================\n",
      "Total params: 1011685 (3.86 MB)\n",
      "Trainable params: 1011685 (3.86 MB)\n",
      "Non-trainable params: 0 (0.00 Byte)\n",
      "_________________________________________________________________\n"
     ]
    }
   ],
   "source": [
    "# Create the teacher\n",
    "from tensorflow.keras.models import load_model\n",
    "#teacher = load_model('/content/drive/MyDrive/RESNET_152(ADAM_0.01).h5')\n",
    "#teacher = ((\"/content/drive/MyDrive/RESNET_152(ADAM_0.01).h5\"),\n",
    "   # [\n",
    "      #  keras.Input(shape=(28, 28, 1)),\n",
    "       # layers.Conv2D(256, (3, 3), strides=(2, 2), padding=\"same\"),\n",
    "       # layers.LeakyReLU(alpha=0.2),\n",
    "      #  layers.MaxPooling2D(pool_size=(2, 2), strides=(1, 1), padding=\"same\"),\n",
    "       # layers.Conv2D(512, (3, 3), strides=(2, 2), padding=\"same\"),\n",
    "      #  layers.Flatten(),\n",
    "       # layers.Dense(10),\n",
    "   #() ],\n",
    "    #name=\"teacher\"\n",
    "\n",
    "\n",
    "from tensorflow.keras.applications import InceptionV3\n",
    "import tensorflow.keras.applications\n",
    "\n",
    "\n",
    "# Load DenseNet-169 model without top layers\n",
    "inceptionv3_model = InceptionV3(weights='imagenet', include_top=False, input_shape=(224, 224, 3))\n",
    "\n",
    "# Create a Sequential model\n",
    "inceptionv3 = keras.models.Sequential()\n",
    "\n",
    "# Set layers in densenet169_model to non-trainable\n",
    "for layer in inceptionv3_model.layers:\n",
    "    layer.trainable = False\n",
    "\n",
    "# Add layers to the model\n",
    "inceptionv3.add(inceptionv3_model)\n",
    "inceptionv3.add(Flatten())\n",
    "inceptionv3.add(Dropout(0.2))\n",
    "inceptionv3.add(Dense(1024, activation='relu'))\n",
    "inceptionv3.add(Dropout(0.2))\n",
    "inceptionv3.add(Dense(512, activation='relu'))\n",
    "inceptionv3.add(Dense(5, activation='softmax'))\n",
    "\n",
    "inceptionv3.summary()\n",
    "\n",
    "teacher= inceptionv3\n",
    "\n",
    "# Create the student\n",
    "student = keras.Sequential(\n",
    "    [\n",
    "        keras.Input(shape=(224, 224, 3)),\n",
    "\n",
    "        layers.Conv2D(32, (5, 5), strides=(2, 2), padding=\"same\"),\n",
    "        layers.ReLU(),\n",
    "        layers.MaxPooling2D(pool_size=(2, 2), strides=(2, 2), padding=\"same\"),\n",
    "\n",
    "        layers.Conv2D(48, (3, 3), strides=(2, 2), padding=\"same\"),\n",
    "        layers.ReLU(),\n",
    "        layers.MaxPooling2D(pool_size=(2, 2), strides=(2, 2), padding=\"same\"),\n",
    "\n",
    "        layers.Conv2D(64, (3, 3), strides=(2, 2), padding=\"same\"),\n",
    "        layers.ReLU(),\n",
    "        layers.MaxPooling2D(pool_size=(2, 2), strides=(2, 2), padding=\"same\"),\n",
    "\n",
    "        layers.Conv2D(128, (3, 3), strides=(2, 2), padding=\"same\"),\n",
    "        layers.ReLU(),\n",
    "        layers.MaxPooling2D(pool_size=(2, 2), strides=(2, 2), padding=\"same\"),\n",
    "        \n",
    "        layers.Conv2D(256, (3, 3), strides=(2, 2), padding=\"same\"),\n",
    "        layers.ReLU(),\n",
    "        layers.MaxPooling2D(pool_size=(2, 2), strides=(2, 2), padding=\"same\"),\n",
    "\n",
    "        layers.Conv2D(128, (3, 3), strides=(2, 2), padding=\"same\"),\n",
    "        layers.ReLU(),\n",
    "        layers.MaxPooling2D(pool_size=(2, 2), strides=(2, 2), padding=\"same\"),\n",
    "\n",
    "    \n",
    "        \n",
    "        layers.Flatten(),\n",
    "        layers.Dense(600),\n",
    "        layers.Dense(300),\n",
    "        layers.Dense(150),\n",
    "        layers.Dense(5),\n",
    "\n",
    "\n",
    "    ],\n",
    "    name=\"student\",\n",
    ")\n",
    "student.summary()\n",
    "\n",
    "# Clone student for later comparison\n",
    "student_scratch = keras.models.clone_model(student)\n"
   ]
  },
  {
   "cell_type": "markdown",
   "metadata": {
    "id": "CVkFoX6Msl4H"
   },
   "source": [
    "Train the Teacher Network and Distill the Teacher weights to Student"
   ]
  },
  {
   "cell_type": "code",
   "execution_count": 6,
   "metadata": {
    "colab": {
     "background_save": true,
     "base_uri": "https://localhost:8080/"
    },
    "id": "9rxYbsMKssBk",
    "outputId": "e1e01a38-1784-4c28-83b5-33da0c9780f3"
   },
   "outputs": [
    {
     "name": "stdout",
     "output_type": "stream",
     "text": [
      "Epoch 1/25\n",
      "70/70 [==============================] - 51s 711ms/step - sparse_categorical_accuracy: 0.3840 - student_loss: 1.5400 - distillation_loss: 0.0074 - val_sparse_categorical_accuracy: 0.5271 - val_student_loss: 1.5225\n",
      "Epoch 2/25\n",
      "70/70 [==============================] - 53s 751ms/step - sparse_categorical_accuracy: 0.6033 - student_loss: 1.4634 - distillation_loss: 0.0105 - val_sparse_categorical_accuracy: 0.6426 - val_student_loss: 1.4503\n",
      "Epoch 3/25\n",
      "70/70 [==============================] - 56s 788ms/step - sparse_categorical_accuracy: 0.6245 - student_loss: 1.4535 - distillation_loss: 0.0108 - val_sparse_categorical_accuracy: 0.6354 - val_student_loss: 1.4610\n",
      "Epoch 4/25\n",
      "70/70 [==============================] - 52s 737ms/step - sparse_categorical_accuracy: 0.6345 - student_loss: 1.4492 - distillation_loss: 0.0110 - val_sparse_categorical_accuracy: 0.6444 - val_student_loss: 1.4283\n",
      "Epoch 5/25\n",
      "70/70 [==============================] - 54s 776ms/step - sparse_categorical_accuracy: 0.6394 - student_loss: 1.4447 - distillation_loss: 0.0112 - val_sparse_categorical_accuracy: 0.6462 - val_student_loss: 1.5987\n",
      "Epoch 6/25\n",
      "70/70 [==============================] - 56s 802ms/step - sparse_categorical_accuracy: 0.6412 - student_loss: 1.4371 - distillation_loss: 0.0113 - val_sparse_categorical_accuracy: 0.6480 - val_student_loss: 1.3967\n",
      "Epoch 7/25\n",
      "70/70 [==============================] - 52s 741ms/step - sparse_categorical_accuracy: 0.6462 - student_loss: 1.4333 - distillation_loss: 0.0115 - val_sparse_categorical_accuracy: 0.6534 - val_student_loss: 1.3911\n",
      "Epoch 8/25\n",
      "70/70 [==============================] - 54s 775ms/step - sparse_categorical_accuracy: 0.6453 - student_loss: 1.4313 - distillation_loss: 0.0118 - val_sparse_categorical_accuracy: 0.6462 - val_student_loss: 1.4066\n",
      "Epoch 9/25\n",
      "70/70 [==============================] - 54s 774ms/step - sparse_categorical_accuracy: 0.6512 - student_loss: 1.4292 - distillation_loss: 0.0117 - val_sparse_categorical_accuracy: 0.6480 - val_student_loss: 1.5163\n",
      "Epoch 10/25\n",
      "70/70 [==============================] - 61s 877ms/step - sparse_categorical_accuracy: 0.6620 - student_loss: 1.4213 - distillation_loss: 0.0120 - val_sparse_categorical_accuracy: 0.6480 - val_student_loss: 1.5052\n",
      "Epoch 11/25\n",
      "70/70 [==============================] - 58s 830ms/step - sparse_categorical_accuracy: 0.6643 - student_loss: 1.4179 - distillation_loss: 0.0121 - val_sparse_categorical_accuracy: 0.6498 - val_student_loss: 1.4190\n",
      "Epoch 12/25\n",
      "70/70 [==============================] - 56s 801ms/step - sparse_categorical_accuracy: 0.6606 - student_loss: 1.4181 - distillation_loss: 0.0121 - val_sparse_categorical_accuracy: 0.6480 - val_student_loss: 1.5164\n",
      "Epoch 13/25\n",
      "70/70 [==============================] - 57s 813ms/step - sparse_categorical_accuracy: 0.6647 - student_loss: 1.4172 - distillation_loss: 0.0120 - val_sparse_categorical_accuracy: 0.6498 - val_student_loss: 1.4186\n",
      "Epoch 14/25\n",
      "70/70 [==============================] - 62s 886ms/step - sparse_categorical_accuracy: 0.6724 - student_loss: 1.4095 - distillation_loss: 0.0124 - val_sparse_categorical_accuracy: 0.6462 - val_student_loss: 1.5734\n",
      "Epoch 15/25\n",
      "70/70 [==============================] - 62s 880ms/step - sparse_categorical_accuracy: 0.6737 - student_loss: 1.4131 - distillation_loss: 0.0124 - val_sparse_categorical_accuracy: 0.6300 - val_student_loss: 1.4633\n",
      "Epoch 16/25\n",
      "70/70 [==============================] - 58s 823ms/step - sparse_categorical_accuracy: 0.6760 - student_loss: 1.4100 - distillation_loss: 0.0123 - val_sparse_categorical_accuracy: 0.6552 - val_student_loss: 1.5271\n",
      "Epoch 17/25\n",
      "70/70 [==============================] - 56s 804ms/step - sparse_categorical_accuracy: 0.6886 - student_loss: 1.4051 - distillation_loss: 0.0125 - val_sparse_categorical_accuracy: 0.6606 - val_student_loss: 1.3865\n",
      "Epoch 18/25\n",
      "70/70 [==============================] - 59s 843ms/step - sparse_categorical_accuracy: 0.6972 - student_loss: 1.4024 - distillation_loss: 0.0128 - val_sparse_categorical_accuracy: 0.6534 - val_student_loss: 1.4505\n",
      "Epoch 19/25\n",
      "70/70 [==============================] - 64s 919ms/step - sparse_categorical_accuracy: 0.6918 - student_loss: 1.4030 - distillation_loss: 0.0124 - val_sparse_categorical_accuracy: 0.6751 - val_student_loss: 1.3805\n",
      "Epoch 20/25\n",
      "70/70 [==============================] - 62s 893ms/step - sparse_categorical_accuracy: 0.6963 - student_loss: 1.3967 - distillation_loss: 0.0129 - val_sparse_categorical_accuracy: 0.6823 - val_student_loss: 1.4448\n",
      "Epoch 21/25\n",
      "70/70 [==============================] - 69s 982ms/step - sparse_categorical_accuracy: 0.7053 - student_loss: 1.3961 - distillation_loss: 0.0128 - val_sparse_categorical_accuracy: 0.6751 - val_student_loss: 1.5158\n",
      "Epoch 22/25\n",
      "70/70 [==============================] - 59s 844ms/step - sparse_categorical_accuracy: 0.7247 - student_loss: 1.3870 - distillation_loss: 0.0132 - val_sparse_categorical_accuracy: 0.6697 - val_student_loss: 1.3860\n",
      "Epoch 23/25\n",
      "70/70 [==============================] - 64s 913ms/step - sparse_categorical_accuracy: 0.7180 - student_loss: 1.3897 - distillation_loss: 0.0133 - val_sparse_categorical_accuracy: 0.6715 - val_student_loss: 1.4522\n",
      "Epoch 24/25\n",
      "70/70 [==============================] - 64s 910ms/step - sparse_categorical_accuracy: 0.7229 - student_loss: 1.3812 - distillation_loss: 0.0135 - val_sparse_categorical_accuracy: 0.6480 - val_student_loss: 1.4496\n",
      "Epoch 25/25\n",
      "70/70 [==============================] - 59s 848ms/step - sparse_categorical_accuracy: 0.7256 - student_loss: 1.3784 - distillation_loss: 0.0135 - val_sparse_categorical_accuracy: 0.6733 - val_student_loss: 1.3978\n"
     ]
    },
    {
     "data": {
      "text/plain": [
       "<keras.src.callbacks.History at 0x16c5e2d10>"
      ]
     },
     "execution_count": 6,
     "metadata": {},
     "output_type": "execute_result"
    }
   ],
   "source": [
    "# Import the legacy optimizer\n",
    "from tensorflow.keras.optimizers import legacy\n",
    "\n",
    "# ...\n",
    "\n",
    "# Initialize and compile distiller with the legacy optimizer\n",
    "distiller = Distiller(student=student, teacher=teacher)\n",
    "distiller.compile(\n",
    "    optimizer=legacy.Adam(),  # Use legacy Adam optimizer\n",
    "    metrics=[keras.metrics.SparseCategoricalAccuracy()],\n",
    "    student_loss_fn=keras.losses.SparseCategoricalCrossentropy(from_logits=True),\n",
    "    distillation_loss_fn=keras.losses.KLDivergence(),\n",
    "    alpha=0.1,\n",
    "    temperature=6,\n",
    ")\n",
    "\n",
    "# Distill teacher to student\n",
    "graph = distiller.fit(train_generator, epochs=25, validation_data=validation_generator)\n",
    "graph\n",
    "\n",
    "# Evaluate student on the test dataset\n",
    "# distiller.evaluate(train_generator, epochs=15, validation_data=validation_generator)\n"
   ]
  },
  {
   "cell_type": "code",
   "execution_count": null,
   "metadata": {
    "id": "GzQjS5y-FE02"
   },
   "outputs": [],
   "source": []
  },
  {
   "cell_type": "code",
   "execution_count": 7,
   "metadata": {
    "colab": {
     "base_uri": "https://localhost:8080/",
     "height": 268
    },
    "id": "1mIIoSYp115J",
    "outputId": "c194ce2f-fb7d-4c26-c626-3986e7a8433b"
   },
   "outputs": [
    {
     "data": {
      "image/png": "[encoded data removed]",
      "text/plain": [
       "<Figure size 640x480 with 1 Axes>"
      ]
     },
     "metadata": {},
     "output_type": "display_data"
    }
   ],
   "source": [
    "import matplotlib.pyplot as plt\n",
    "\n",
    "fig1 = plt.gcf()\n",
    "\n",
    "plt.plot(graph.history['sparse_categorical_accuracy'])\n",
    "plt.plot(graph.history['val_sparse_categorical_accuracy'])\n",
    "\n",
    "# plt.axis(ymin=0.4, ymax=1)\n",
    "plt.grid()\n",
    "\n",
    "plt.title('OSPS-MicroNet model Accuracy to its teacher Inceptionv')\n",
    "plt.ylabel('Accuracy')\n",
    "plt.xlabel('Epochs')\n",
    "plt.legend(['train','validation'])\n",
    "\n",
    "plt.show()"
   ]
  },
  {
   "cell_type": "code",
   "execution_count": 8,
   "metadata": {
    "colab": {
     "base_uri": "https://localhost:8080/",
     "height": 197
    },
    "id": "M5komxG_zgBG",
    "outputId": "4170f11d-e9c3-413a-a026-6d138334f34d"
   },
   "outputs": [
    {
     "name": "stdout",
     "output_type": "stream",
     "text": [
      "The highest accuracy achieved for OSPS-MicroNet model Accuracy to its teacher ResNet152 model is 68.23104619979858\n"
     ]
    }
   ],
   "source": [
    "max_acc = max(graph.history['val_sparse_categorical_accuracy'])\n",
    "print('The highest accuracy achieved for OSPS-MicroNet model Accuracy to its teacher ResNet152 model is',max_acc*100)"
   ]
  },
  {
   "cell_type": "code",
   "execution_count": null,
   "metadata": {},
   "outputs": [],
   "source": []
  }
 ],
 "metadata": {
  "accelerator": "TPU",
  "colab": {
   "gpuClass": "premium",
   "machine_shape": "hm",
   "provenance": []
  },
  "gpuClass": "premium",
  "kernelspec": {
   "display_name": "Python 3 (ipykernel)",
   "language": "python",
   "name": "python3"
  },
  "language_info": {
   "codemirror_mode": {
    "name": "ipython",
    "version": 3
   },
   "file_extension": ".py",
   "mimetype": "text/x-python",
   "name": "python",
   "nbconvert_exporter": "python",
   "pygments_lexer": "ipython3",
   "version": "3.11.5"
  }
 },
 "nbformat": 4,
 "nbformat_minor": 4
}
