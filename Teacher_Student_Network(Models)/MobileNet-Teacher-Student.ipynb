{
 "cells": [
  {
   "cell_type": "code",
   "execution_count": null,
   "metadata": {
    "colab": {
     "base_uri": "https://localhost:8080/"
    },
    "id": "Pue5ETcSjW0c",
    "outputId": "73a7680d-a4b8-453b-9825-59ab61ae36e1"
   },
   "outputs": [
    {
     "name": "stdout",
     "output_type": "stream",
     "text": [
      "Mounted at /content/drive\n"
     ]
    }
   ],
   "source": [
    "from google.colab import drive\n",
    "drive.mount('/content/drive')"
   ]
  },
  {
   "cell_type": "code",
   "execution_count": 1,
   "metadata": {
    "id": "vHJMHq7mq37P",
    "tags": []
   },
   "outputs": [],
   "source": [
    "import tensorflow as tf\n",
    "from tensorflow import keras\n",
    "from tensorflow.keras import layers\n",
    "import numpy as np\n"
   ]
  },
  {
   "cell_type": "markdown",
   "metadata": {
    "id": "lSQE006nrfgJ"
   },
   "source": []
  },
  {
   "cell_type": "markdown",
   "metadata": {
    "id": "z8MG7D9lrjb7"
   },
   "source": [
    "Distiller Class"
   ]
  },
  {
   "cell_type": "code",
   "execution_count": null,
   "metadata": {
    "id": "JtNCCJkmI-Ag"
   },
   "outputs": [],
   "source": []
  },
  {
   "cell_type": "code",
   "execution_count": 2,
   "metadata": {
    "id": "QHgbeZourpd0",
    "tags": []
   },
   "outputs": [],
   "source": [
    "class Distiller(keras.Model):\n",
    "    def __init__(self, student, teacher):\n",
    "        super(Distiller, self).__init__()\n",
    "        self.teacher = teacher\n",
    "        self.student = student\n",
    "\n",
    "    def compile(\n",
    "        self,\n",
    "        optimizer,\n",
    "        metrics,\n",
    "        student_loss_fn,\n",
    "        distillation_loss_fn,\n",
    "        alpha=0.1,\n",
    "        temperature=3,\n",
    "    ):\n",
    "        \"\"\" Configure the distiller.\n",
    "\n",
    "        Args:\n",
    "            optimizer: Keras optimizer for the student weights\n",
    "            metrics: Keras metrics for evaluation\n",
    "            student_loss_fn: Loss function of difference between student\n",
    "                predictions and ground-truth\n",
    "            distillation_loss_fn: Loss function of difference between soft\n",
    "                student predictions and soft teacher predictions\n",
    "            alpha: weight to student_loss_fn and 1-alpha to distillation_loss_fn\n",
    "            temperature: Temperature for softening probability distributions.\n",
    "                Larger temperature gives softer distributions.\n",
    "        \"\"\"\n",
    "        super(Distiller, self).compile(optimizer=optimizer, metrics=metrics)\n",
    "        self.student_loss_fn = student_loss_fn\n",
    "        self.distillation_loss_fn = distillation_loss_fn\n",
    "        self.alpha = alpha\n",
    "        self.temperature = temperature\n",
    "\n",
    "    def train_step(self, data):\n",
    "        # Unpack data\n",
    "        x, y = data\n",
    "\n",
    "        # Forward pass of teacher\n",
    "        teacher_predictions = self.teacher(x, training=False)\n",
    "\n",
    "        with tf.GradientTape() as tape:\n",
    "            # Forward pass of student\n",
    "            student_predictions = self.student(x, training=True)\n",
    "\n",
    "            # Compute losses\n",
    "            student_loss = self.student_loss_fn(y, student_predictions)\n",
    "\n",
    "            # Compute scaled distillation loss from https://arxiv.org/abs/1503.02531\n",
    "            # The magnitudes of the gradients produced by the soft targets scale\n",
    "            # as 1/T^2, multiply them by T^2 when using both hard and soft targets.\n",
    "            distillation_loss = (\n",
    "                self.distillation_loss_fn(\n",
    "                    tf.nn.softmax(teacher_predictions / self.temperature, axis=1),\n",
    "                    tf.nn.softmax(student_predictions / self.temperature, axis=1),\n",
    "                )\n",
    "                * self.temperature**2\n",
    "            )\n",
    "\n",
    "            loss = self.alpha * student_loss + (1 - self.alpha) * distillation_loss\n",
    "\n",
    "        # Compute gradients\n",
    "        trainable_vars = self.student.trainable_variables\n",
    "        gradients = tape.gradient(loss, trainable_vars)\n",
    "\n",
    "        # Update weights\n",
    "        self.optimizer.apply_gradients(zip(gradients, trainable_vars))\n",
    "\n",
    "        # Update the metrics configured in `compile()`.\n",
    "        self.compiled_metrics.update_state(y, student_predictions)\n",
    "\n",
    "        # Return a dict of performance\n",
    "        results = {m.name: m.result() for m in self.metrics}\n",
    "        results.update(\n",
    "            {\"student_loss\": student_loss, \"distillation_loss\": distillation_loss}\n",
    "        )\n",
    "        return results\n",
    "\n",
    "    def test_step(self, data):\n",
    "        # Unpack the data\n",
    "        x, y = data\n",
    "\n",
    "        # Compute predictions\n",
    "        y_prediction = self.student(x, training=False)\n",
    "\n",
    "        # Calculate the loss\n",
    "        student_loss = self.student_loss_fn(y, y_prediction)\n",
    "\n",
    "        # Update the metrics.\n",
    "        self.compiled_metrics.update_state(y, y_prediction)\n",
    "\n",
    "        # Return a dict of performance\n",
    "        results = {m.name: m.result() for m in self.metrics}\n",
    "        results.update({\"student_loss\": student_loss})\n",
    "        return results"
   ]
  },
  {
   "cell_type": "markdown",
   "metadata": {
    "id": "wyZ64m6Fr_Jp"
   },
   "source": [
    "Creating Teacher and Student Model"
   ]
  },
  {
   "cell_type": "code",
   "execution_count": null,
   "metadata": {
    "id": "k_rryJTb0HEF"
   },
   "outputs": [],
   "source": []
  },
  {
   "cell_type": "code",
   "execution_count": 3,
   "metadata": {
    "colab": {
     "base_uri": "https://localhost:8080/"
    },
    "id": "I1UNXHvkn83h",
    "outputId": "6ddec359-aa2c-4557-9cea-cd14ffe73b18",
    "tags": []
   },
   "outputs": [
    {
     "name": "stdout",
     "output_type": "stream",
     "text": [
      "Found 2200 images belonging to 5 classes.\n",
      "Found 550 images belonging to 5 classes.\n"
     ]
    }
   ],
   "source": [
    "from keras.preprocessing.image import ImageDataGenerator\n",
    "train_datagen_with_aug = ImageDataGenerator(rescale=1./255, validation_split=0.2)\n",
    "train_generator = train_datagen_with_aug.flow_from_directory(\n",
    "    r'/Users/janeniej/Desktop/DR_IMAGESET',\n",
    "    target_size=(224, 224),\n",
    "    batch_size=32,\n",
    "    # color_mode='grayscale',\n",
    "    class_mode='sparse',\n",
    "    subset='training'\n",
    "    ) # set as training data\n",
    "\n",
    "validation_generator = train_datagen_with_aug.flow_from_directory(\n",
    "    r'/Users/janeniej/Desktop/DR_IMAGESET', # same directory as training data\n",
    "    target_size=(224, 224),\n",
    "    batch_size=32,\n",
    "    # color_mode='grayscale',\n",
    "    class_mode='sparse',\n",
    "    subset='validation'\n",
    "    ) # set as validation data\n",
    "\n",
    "#input_img = Input(shape=(224, 224, 3))"
   ]
  },
  {
   "cell_type": "code",
   "execution_count": 4,
   "metadata": {
    "id": "eyQ-FL5QikR7",
    "tags": []
   },
   "outputs": [],
   "source": [
    "from keras.models import Model\n",
    "from keras.layers import Input\n",
    "from keras.layers import Conv2D\n",
    "from keras.layers import MaxPooling2D, AveragePooling2D\n",
    "# from keras.layers.merge import concatenate\n",
    "\n",
    "from keras.preprocessing.image import ImageDataGenerator\n",
    "from keras.layers import Flatten, Dense\n",
    "from keras.layers import Activation\n",
    "from keras.layers import BatchNormalization\n",
    "from keras.callbacks import ModelCheckpoint, EarlyStopping\n",
    "\n",
    "from tensorflow import keras\n",
    "from tensorflow.keras import layers\n",
    "from keras.models import Sequential\n",
    "from tensorflow.keras.layers import Flatten, Dense, Dropout\n",
    "from keras.layers import Input, Conv2D, MaxPooling2D, AveragePooling2D\n",
    "from tensorflow.keras.optimizers import Adam\n",
    "import numpy as np"
   ]
  },
  {
   "cell_type": "code",
   "execution_count": 5,
   "metadata": {
    "colab": {
     "base_uri": "https://localhost:8080/"
    },
    "id": "DMgaVo4EsCYc",
    "outputId": "1591d518-9ab1-46f5-bdd5-419532c9b058",
    "tags": []
   },
   "outputs": [
    {
     "name": "stdout",
     "output_type": "stream",
     "text": [
      "Downloading data from https://storage.googleapis.com/tensorflow/keras-applications/mobilenet_v2/mobilenet_v2_weights_tf_dim_ordering_tf_kernels_1.0_224_no_top.h5\n",
      "9406464/9406464 [==============================] - 1s 0us/step\n",
      "Model: \"sequential\"\n",
      "_________________________________________________________________\n",
      " Layer (type)                Output Shape              Param #   \n",
      "=================================================================\n",
      " mobilenetv2_1.00_224 (Func  (None, 7, 7, 1280)        2257984   \n",
      " tional)                                                         \n",
      "                                                                 \n",
      " flatten (Flatten)           (None, 62720)             0         \n",
      "                                                                 \n",
      " dropout (Dropout)           (None, 62720)             0         \n",
      "                                                                 \n",
      " dense (Dense)               (None, 1024)              64226304  \n",
      "                                                                 \n",
      " dropout_1 (Dropout)         (None, 1024)              0         \n",
      "                                                                 \n",
      " dense_1 (Dense)             (None, 512)               524800    \n",
      "                                                                 \n",
      " dense_2 (Dense)             (None, 5)                 2565      \n",
      "                                                                 \n",
      "=================================================================\n",
      "Total params: 67011653 (255.63 MB)\n",
      "Trainable params: 64753669 (247.02 MB)\n",
      "Non-trainable params: 2257984 (8.61 MB)\n",
      "_________________________________________________________________\n",
      "Model: \"student\"\n",
      "_________________________________________________________________\n",
      " Layer (type)                Output Shape              Param #   \n",
      "=================================================================\n",
      " conv2d (Conv2D)             (None, 112, 112, 16)      1216      \n",
      "                                                                 \n",
      " re_lu (ReLU)                (None, 112, 112, 16)      0         \n",
      "                                                                 \n",
      " max_pooling2d (MaxPooling2  (None, 56, 56, 16)        0         \n",
      " D)                                                              \n",
      "                                                                 \n",
      " conv2d_1 (Conv2D)           (None, 28, 28, 32)        4640      \n",
      "                                                                 \n",
      " re_lu_1 (ReLU)              (None, 28, 28, 32)        0         \n",
      "                                                                 \n",
      " max_pooling2d_1 (MaxPoolin  (None, 14, 14, 32)        0         \n",
      " g2D)                                                            \n",
      "                                                                 \n",
      " conv2d_2 (Conv2D)           (None, 7, 7, 48)          13872     \n",
      "                                                                 \n",
      " re_lu_2 (ReLU)              (None, 7, 7, 48)          0         \n",
      "                                                                 \n",
      " max_pooling2d_2 (MaxPoolin  (None, 4, 4, 48)          0         \n",
      " g2D)                                                            \n",
      "                                                                 \n",
      " conv2d_3 (Conv2D)           (None, 2, 2, 64)          27712     \n",
      "                                                                 \n",
      " re_lu_3 (ReLU)              (None, 2, 2, 64)          0         \n",
      "                                                                 \n",
      " max_pooling2d_3 (MaxPoolin  (None, 1, 1, 64)          0         \n",
      " g2D)                                                            \n",
      "                                                                 \n",
      " conv2d_4 (Conv2D)           (None, 1, 1, 128)         73856     \n",
      "                                                                 \n",
      " re_lu_4 (ReLU)              (None, 1, 1, 128)         0         \n",
      "                                                                 \n",
      " max_pooling2d_4 (MaxPoolin  (None, 1, 1, 128)         0         \n",
      " g2D)                                                            \n",
      "                                                                 \n",
      " conv2d_5 (Conv2D)           (None, 1, 1, 64)          73792     \n",
      "                                                                 \n",
      " re_lu_5 (ReLU)              (None, 1, 1, 64)          0         \n",
      "                                                                 \n",
      " max_pooling2d_5 (MaxPoolin  (None, 1, 1, 64)          0         \n",
      " g2D)                                                            \n",
      "                                                                 \n",
      " flatten_1 (Flatten)         (None, 64)                0         \n",
      "                                                                 \n",
      " dense_3 (Dense)             (None, 600)               39000     \n",
      "                                                                 \n",
      " dense_4 (Dense)             (None, 300)               180300    \n",
      "                                                                 \n",
      " dense_5 (Dense)             (None, 150)               45150     \n",
      "                                                                 \n",
      " dense_6 (Dense)             (None, 5)                 755       \n",
      "                                                                 \n",
      "=================================================================\n",
      "Total params: 460293 (1.76 MB)\n",
      "Trainable params: 460293 (1.76 MB)\n",
      "Non-trainable params: 0 (0.00 Byte)\n",
      "_________________________________________________________________\n"
     ]
    }
   ],
   "source": [
    "from tensorflow.keras.applications import MobileNetV2\n",
    "\n",
    "# Load MobileNetV2 model without top layers\n",
    "mobilenet_model = MobileNetV2(weights='imagenet', include_top=False, input_shape=(224, 224, 3))\n",
    "\n",
    "# Create a Sequential model for the teacher\n",
    "teacher = keras.models.Sequential()\n",
    "\n",
    "# Set layers in MobileNetV2 model to non-trainable\n",
    "for layer in mobilenet_model.layers:\n",
    "    layer.trainable = False\n",
    "\n",
    "# Add layers to the teacher model\n",
    "teacher.add(mobilenet_model)\n",
    "teacher.add(Flatten())\n",
    "teacher.add(Dropout(0.2))\n",
    "teacher.add(Dense(1024, activation='relu'))\n",
    "teacher.add(Dropout(0.2))\n",
    "teacher.add(Dense(512, activation='relu'))\n",
    "teacher.add(Dense(5, activation='softmax'))\n",
    "\n",
    "teacher.summary()\n",
    "\n",
    "# Create the student\n",
    "student = keras.Sequential(\n",
    "    [\n",
    "        keras.Input(shape=(224, 224, 3)),\n",
    "\n",
    "        layers.Conv2D(16, (5, 5), strides=(2, 2), padding=\"same\"),\n",
    "        layers.ReLU(),\n",
    "        layers.MaxPooling2D(pool_size=(2, 2), strides=(2, 2), padding=\"same\"),\n",
    "\n",
    "        layers.Conv2D(32, (3, 3), strides=(2, 2), padding=\"same\"),\n",
    "        layers.ReLU(),\n",
    "        layers.MaxPooling2D(pool_size=(2, 2), strides=(2, 2), padding=\"same\"),\n",
    "\n",
    "\n",
    "        layers.Conv2D(48, (3, 3), strides=(2, 2), padding=\"same\"),\n",
    "        layers.ReLU(),\n",
    "        layers.MaxPooling2D(pool_size=(2, 2), strides=(2, 2), padding=\"same\"),\n",
    "\n",
    "\n",
    "        layers.Conv2D(64, (3, 3), strides=(2, 2), padding=\"same\"),\n",
    "        layers.ReLU(),\n",
    "        layers.MaxPooling2D(pool_size=(2, 2), strides=(2, 2), padding=\"same\"),\n",
    "\n",
    "        layers.Conv2D(128, (3, 3), strides=(1, 1), padding=\"same\"),\n",
    "        layers.ReLU(),\n",
    "        layers.MaxPooling2D(pool_size=(2, 2), strides=(2, 2), padding=\"same\"),\n",
    "\n",
    "        layers.Conv2D(64, (3, 3), strides=(2, 2), padding=\"same\"),\n",
    "        layers.ReLU(),\n",
    "        layers.MaxPooling2D(pool_size=(2, 2), strides=(2, 2), padding=\"same\"),\n",
    "\n",
    "        layers.Flatten(),\n",
    "        layers.Dense(600),\n",
    "        layers.Dense(300),\n",
    "        layers.Dense(150),\n",
    "        layers.Dense(5),\n",
    "    ],\n",
    "    name=\"student\",\n",
    ")\n",
    "student.summary()\n",
    "\n",
    "# Clone student for later comparison\n",
    "student_scratch = keras.models.clone_model(student)\n"
   ]
  },
  {
   "cell_type": "markdown",
   "metadata": {
    "id": "CVkFoX6Msl4H"
   },
   "source": [
    "Train the Teacher Network and Distill the Teacher weights to Student"
   ]
  },
  {
   "cell_type": "code",
   "execution_count": 6,
   "metadata": {
    "colab": {
     "background_save": true,
     "base_uri": "https://localhost:8080/"
    },
    "id": "9rxYbsMKssBk",
    "outputId": "e1e01a38-1784-4c28-83b5-33da0c9780f3",
    "tags": []
   },
   "outputs": [
    {
     "name": "stdout",
     "output_type": "stream",
     "text": [
      "Epoch 1/25\n",
      "69/69 [==============================] - 17s 227ms/step - sparse_categorical_accuracy: 0.3895 - student_loss: 1.5053 - distillation_loss: 0.0099 - val_sparse_categorical_accuracy: 0.5655 - val_student_loss: 1.6095\n",
      "Epoch 2/25\n",
      "69/69 [==============================] - 16s 231ms/step - sparse_categorical_accuracy: 0.6000 - student_loss: 1.4197 - distillation_loss: 0.0121 - val_sparse_categorical_accuracy: 0.6291 - val_student_loss: 1.3991\n",
      "Epoch 3/25\n",
      "69/69 [==============================] - 15s 221ms/step - sparse_categorical_accuracy: 0.6214 - student_loss: 1.4062 - distillation_loss: 0.0124 - val_sparse_categorical_accuracy: 0.6218 - val_student_loss: 1.6021\n",
      "Epoch 4/25\n",
      "69/69 [==============================] - 17s 239ms/step - sparse_categorical_accuracy: 0.6314 - student_loss: 1.3920 - distillation_loss: 0.0129 - val_sparse_categorical_accuracy: 0.6291 - val_student_loss: 1.2560\n",
      "Epoch 5/25\n",
      "69/69 [==============================] - 17s 244ms/step - sparse_categorical_accuracy: 0.6300 - student_loss: 1.3912 - distillation_loss: 0.0127 - val_sparse_categorical_accuracy: 0.6364 - val_student_loss: 1.3181\n",
      "Epoch 6/25\n",
      "69/69 [==============================] - 16s 235ms/step - sparse_categorical_accuracy: 0.6395 - student_loss: 1.3843 - distillation_loss: 0.0129 - val_sparse_categorical_accuracy: 0.6327 - val_student_loss: 1.3952\n",
      "Epoch 7/25\n",
      "69/69 [==============================] - 17s 241ms/step - sparse_categorical_accuracy: 0.6400 - student_loss: 1.3859 - distillation_loss: 0.0128 - val_sparse_categorical_accuracy: 0.6418 - val_student_loss: 1.1792\n",
      "Epoch 8/25\n",
      "69/69 [==============================] - 16s 233ms/step - sparse_categorical_accuracy: 0.6414 - student_loss: 1.3794 - distillation_loss: 0.0131 - val_sparse_categorical_accuracy: 0.6309 - val_student_loss: 1.3622\n",
      "Epoch 9/25\n",
      "69/69 [==============================] - 16s 224ms/step - sparse_categorical_accuracy: 0.6459 - student_loss: 1.3772 - distillation_loss: 0.0128 - val_sparse_categorical_accuracy: 0.6364 - val_student_loss: 1.2635\n",
      "Epoch 10/25\n",
      "69/69 [==============================] - 15s 221ms/step - sparse_categorical_accuracy: 0.6432 - student_loss: 1.3749 - distillation_loss: 0.0129 - val_sparse_categorical_accuracy: 0.6291 - val_student_loss: 1.3105\n",
      "Epoch 11/25\n",
      "69/69 [==============================] - 16s 225ms/step - sparse_categorical_accuracy: 0.6477 - student_loss: 1.3687 - distillation_loss: 0.0128 - val_sparse_categorical_accuracy: 0.6309 - val_student_loss: 1.2754\n",
      "Epoch 12/25\n",
      "69/69 [==============================] - 15s 223ms/step - sparse_categorical_accuracy: 0.6500 - student_loss: 1.3620 - distillation_loss: 0.0132 - val_sparse_categorical_accuracy: 0.6436 - val_student_loss: 1.5371\n",
      "Epoch 13/25\n",
      "69/69 [==============================] - 16s 224ms/step - sparse_categorical_accuracy: 0.6573 - student_loss: 1.3628 - distillation_loss: 0.0129 - val_sparse_categorical_accuracy: 0.6418 - val_student_loss: 1.4613\n",
      "Epoch 14/25\n",
      "69/69 [==============================] - 16s 233ms/step - sparse_categorical_accuracy: 0.6532 - student_loss: 1.3603 - distillation_loss: 0.0130 - val_sparse_categorical_accuracy: 0.6236 - val_student_loss: 1.4899\n",
      "Epoch 15/25\n",
      "69/69 [==============================] - 16s 229ms/step - sparse_categorical_accuracy: 0.6605 - student_loss: 1.3553 - distillation_loss: 0.0132 - val_sparse_categorical_accuracy: 0.6236 - val_student_loss: 1.2857\n",
      "Epoch 16/25\n",
      "69/69 [==============================] - 16s 236ms/step - sparse_categorical_accuracy: 0.6564 - student_loss: 1.3593 - distillation_loss: 0.0129 - val_sparse_categorical_accuracy: 0.6418 - val_student_loss: 1.3355\n",
      "Epoch 17/25\n",
      "69/69 [==============================] - 16s 229ms/step - sparse_categorical_accuracy: 0.6673 - student_loss: 1.3466 - distillation_loss: 0.0135 - val_sparse_categorical_accuracy: 0.6400 - val_student_loss: 1.2392\n",
      "Epoch 18/25\n",
      "69/69 [==============================] - 16s 225ms/step - sparse_categorical_accuracy: 0.6755 - student_loss: 1.3468 - distillation_loss: 0.0132 - val_sparse_categorical_accuracy: 0.6600 - val_student_loss: 1.2617\n",
      "Epoch 19/25\n",
      "69/69 [==============================] - 16s 226ms/step - sparse_categorical_accuracy: 0.6732 - student_loss: 1.3421 - distillation_loss: 0.0136 - val_sparse_categorical_accuracy: 0.6473 - val_student_loss: 1.2435\n",
      "Epoch 20/25\n",
      "69/69 [==============================] - 17s 247ms/step - sparse_categorical_accuracy: 0.6691 - student_loss: 1.3434 - distillation_loss: 0.0132 - val_sparse_categorical_accuracy: 0.6291 - val_student_loss: 1.4156\n",
      "Epoch 21/25\n",
      "69/69 [==============================] - 16s 229ms/step - sparse_categorical_accuracy: 0.6827 - student_loss: 1.3325 - distillation_loss: 0.0136 - val_sparse_categorical_accuracy: 0.6418 - val_student_loss: 1.4948\n",
      "Epoch 22/25\n",
      "69/69 [==============================] - 16s 236ms/step - sparse_categorical_accuracy: 0.6900 - student_loss: 1.3282 - distillation_loss: 0.0136 - val_sparse_categorical_accuracy: 0.6436 - val_student_loss: 1.3800\n",
      "Epoch 23/25\n",
      "69/69 [==============================] - 16s 229ms/step - sparse_categorical_accuracy: 0.6868 - student_loss: 1.3209 - distillation_loss: 0.0140 - val_sparse_categorical_accuracy: 0.6400 - val_student_loss: 1.3830\n",
      "Epoch 24/25\n",
      "69/69 [==============================] - 18s 256ms/step - sparse_categorical_accuracy: 0.7041 - student_loss: 1.3135 - distillation_loss: 0.0142 - val_sparse_categorical_accuracy: 0.6273 - val_student_loss: 1.3917\n",
      "Epoch 25/25\n",
      "69/69 [==============================] - 16s 233ms/step - sparse_categorical_accuracy: 0.7032 - student_loss: 1.3140 - distillation_loss: 0.0143 - val_sparse_categorical_accuracy: 0.6436 - val_student_loss: 1.3600\n"
     ]
    },
    {
     "data": {
      "text/plain": [
       "<keras.src.callbacks.History at 0x169101890>"
      ]
     },
     "execution_count": 6,
     "metadata": {},
     "output_type": "execute_result"
    }
   ],
   "source": [
    "# Import the necessary optimizer\n",
    "from tensorflow.keras.optimizers import Adam\n",
    "\n",
    "# ...\n",
    "\n",
    "# Initialize and compile distiller with the correct optimizer\n",
    "distiller = Distiller(student=student, teacher=teacher)\n",
    "distiller.compile(\n",
    "    optimizer=Adam(),  # Use the correct Adam optimizer\n",
    "    metrics=[keras.metrics.SparseCategoricalAccuracy()],\n",
    "    student_loss_fn=keras.losses.SparseCategoricalCrossentropy(from_logits=True),\n",
    "    distillation_loss_fn=keras.losses.KLDivergence(),\n",
    "    alpha=0.1,\n",
    "    temperature=6,\n",
    ")\n",
    "\n",
    "# Distill teacher to student\n",
    "graph = distiller.fit(train_generator, epochs=25, validation_data=validation_generator)\n",
    "graph\n",
    "\n",
    "# Evaluate student on the test dataset\n",
    "# distiller.evaluate(train_generator, epochs=15, validation_data=validation_generator)\n"
   ]
  },
  {
   "cell_type": "code",
   "execution_count": null,
   "metadata": {
    "id": "GzQjS5y-FE02"
   },
   "outputs": [],
   "source": []
  },
  {
   "cell_type": "code",
   "execution_count": 7,
   "metadata": {
    "colab": {
     "base_uri": "https://localhost:8080/",
     "height": 268
    },
    "id": "1mIIoSYp115J",
    "outputId": "c194ce2f-fb7d-4c26-c626-3986e7a8433b",
    "tags": []
   },
   "outputs": [
    {
     "data": {
      "image/png": "[encoded data removed]",
      "text/plain": [
       "<Figure size 640x480 with 1 Axes>"
      ]
     },
     "metadata": {},
     "output_type": "display_data"
    }
   ],
   "source": [
    "import matplotlib.pyplot as plt\n",
    "\n",
    "fig1 = plt.gcf()\n",
    "\n",
    "plt.plot(graph.history['sparse_categorical_accuracy'])\n",
    "plt.plot(graph.history['val_sparse_categorical_accuracy'])\n",
    "\n",
    "# plt.axis(ymin=0.4, ymax=1)\n",
    "plt.grid()\n",
    "\n",
    "plt.title('OSPS-MicroNet model Accuracy to its teacher MobileNet')\n",
    "plt.ylabel('Accuracy')\n",
    "plt.xlabel('Epochs')\n",
    "plt.legend(['train','validation'])\n",
    "\n",
    "plt.show()"
   ]
  },
  {
   "cell_type": "code",
   "execution_count": 8,
   "metadata": {
    "colab": {
     "base_uri": "https://localhost:8080/",
     "height": 197
    },
    "id": "M5komxG_zgBG",
    "outputId": "4170f11d-e9c3-413a-a026-6d138334f34d",
    "tags": []
   },
   "outputs": [
    {
     "name": "stdout",
     "output_type": "stream",
     "text": [
      "The highest accuracy achieved for OSPS-MicroNet model Accuracy to its teacher MobileNet model is 66.00000262260437\n"
     ]
    }
   ],
   "source": [
    "max_acc = max(graph.history['val_sparse_categorical_accuracy'])\n",
    "print('The highest accuracy achieved for OSPS-MicroNet model Accuracy to its teacher MobileNet model is',max_acc*100)"
   ]
  },
  {
   "cell_type": "code",
   "execution_count": null,
   "metadata": {},
   "outputs": [],
   "source": []
  }
 ],
 "metadata": {
  "accelerator": "TPU",
  "colab": {
   "gpuClass": "premium",
   "machine_shape": "hm",
   "provenance": []
  },
  "gpuClass": "premium",
  "kernelspec": {
   "display_name": "Python 3 (ipykernel)",
   "language": "python",
   "name": "python3"
  },
  "language_info": {
   "codemirror_mode": {
    "name": "ipython",
    "version": 3
   },
   "file_extension": ".py",
   "mimetype": "text/x-python",
   "name": "python",
   "nbconvert_exporter": "python",
   "pygments_lexer": "ipython3",
   "version": "3.11.5"
  }
 },
 "nbformat": 4,
 "nbformat_minor": 4
}
