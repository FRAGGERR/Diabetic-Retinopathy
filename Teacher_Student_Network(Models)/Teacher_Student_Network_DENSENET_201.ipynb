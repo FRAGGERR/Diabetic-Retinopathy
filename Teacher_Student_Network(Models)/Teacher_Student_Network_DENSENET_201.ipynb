{
 "cells": [
  {
   "cell_type": "code",
   "execution_count": null,
   "metadata": {
    "colab": {
     "base_uri": "https://localhost:8080/"
    },
    "id": "Pue5ETcSjW0c",
    "outputId": "73a7680d-a4b8-453b-9825-59ab61ae36e1"
   },
   "outputs": [
    {
     "name": "stdout",
     "output_type": "stream",
     "text": [
      "Mounted at /content/drive\n"
     ]
    }
   ],
   "source": [
    "from google.colab import drive\n",
    "drive.mount('/content/drive')"
   ]
  },
  {
   "cell_type": "code",
   "execution_count": 1,
   "metadata": {
    "id": "vHJMHq7mq37P"
   },
   "outputs": [],
   "source": [
    "import tensorflow as tf\n",
    "from tensorflow import keras\n",
    "from tensorflow.keras import layers\n",
    "import numpy as np\n"
   ]
  },
  {
   "cell_type": "markdown",
   "metadata": {
    "id": "lSQE006nrfgJ"
   },
   "source": []
  },
  {
   "cell_type": "markdown",
   "metadata": {
    "id": "z8MG7D9lrjb7"
   },
   "source": [
    "Distiller Class"
   ]
  },
  {
   "cell_type": "code",
   "execution_count": null,
   "metadata": {
    "id": "JtNCCJkmI-Ag"
   },
   "outputs": [],
   "source": []
  },
  {
   "cell_type": "code",
   "execution_count": 2,
   "metadata": {
    "id": "QHgbeZourpd0"
   },
   "outputs": [],
   "source": [
    "class Distiller(keras.Model):\n",
    "    def __init__(self, student, teacher):\n",
    "        super(Distiller, self).__init__()\n",
    "        self.teacher = teacher\n",
    "        self.student = student\n",
    "\n",
    "    def compile(\n",
    "        self,\n",
    "        optimizer,\n",
    "        metrics,\n",
    "        student_loss_fn,\n",
    "        distillation_loss_fn,\n",
    "        alpha=0.1,\n",
    "        temperature=3,\n",
    "    ):\n",
    "        \"\"\" Configure the distiller.\n",
    "\n",
    "        Args:\n",
    "            optimizer: Keras optimizer for the student weights\n",
    "            metrics: Keras metrics for evaluation\n",
    "            student_loss_fn: Loss function of difference between student\n",
    "                predictions and ground-truth\n",
    "            distillation_loss_fn: Loss function of difference between soft\n",
    "                student predictions and soft teacher predictions\n",
    "            alpha: weight to student_loss_fn and 1-alpha to distillation_loss_fn\n",
    "            temperature: Temperature for softening probability distributions.\n",
    "                Larger temperature gives softer distributions.\n",
    "        \"\"\"\n",
    "        super(Distiller, self).compile(optimizer=optimizer, metrics=metrics)\n",
    "        self.student_loss_fn = student_loss_fn\n",
    "        self.distillation_loss_fn = distillation_loss_fn\n",
    "        self.alpha = alpha\n",
    "        self.temperature = temperature\n",
    "\n",
    "    def train_step(self, data):\n",
    "        # Unpack data\n",
    "        x, y = data\n",
    "\n",
    "        # Forward pass of teacher\n",
    "        teacher_predictions = self.teacher(x, training=False)\n",
    "\n",
    "        with tf.GradientTape() as tape:\n",
    "            # Forward pass of student\n",
    "            student_predictions = self.student(x, training=True)\n",
    "\n",
    "            # Compute losses\n",
    "            student_loss = self.student_loss_fn(y, student_predictions)\n",
    "\n",
    "            # Compute scaled distillation loss from https://arxiv.org/abs/1503.02531\n",
    "            # The magnitudes of the gradients produced by the soft targets scale\n",
    "            # as 1/T^2, multiply them by T^2 when using both hard and soft targets.\n",
    "            distillation_loss = (\n",
    "                self.distillation_loss_fn(\n",
    "                    tf.nn.softmax(teacher_predictions / self.temperature, axis=1),\n",
    "                    tf.nn.softmax(student_predictions / self.temperature, axis=1),\n",
    "                )\n",
    "                * self.temperature**2\n",
    "            )\n",
    "\n",
    "            loss = self.alpha * student_loss + (1 - self.alpha) * distillation_loss\n",
    "\n",
    "        # Compute gradients\n",
    "        trainable_vars = self.student.trainable_variables\n",
    "        gradients = tape.gradient(loss, trainable_vars)\n",
    "\n",
    "        # Update weights\n",
    "        self.optimizer.apply_gradients(zip(gradients, trainable_vars))\n",
    "\n",
    "        # Update the metrics configured in `compile()`.\n",
    "        self.compiled_metrics.update_state(y, student_predictions)\n",
    "\n",
    "        # Return a dict of performance\n",
    "        results = {m.name: m.result() for m in self.metrics}\n",
    "        results.update(\n",
    "            {\"student_loss\": student_loss, \"distillation_loss\": distillation_loss}\n",
    "        )\n",
    "        return results\n",
    "\n",
    "    def test_step(self, data):\n",
    "        # Unpack the data\n",
    "        x, y = data\n",
    "\n",
    "        # Compute predictions\n",
    "        y_prediction = self.student(x, training=False)\n",
    "\n",
    "        # Calculate the loss\n",
    "        student_loss = self.student_loss_fn(y, y_prediction)\n",
    "\n",
    "        # Update the metrics.\n",
    "        self.compiled_metrics.update_state(y, y_prediction)\n",
    "\n",
    "        # Return a dict of performance\n",
    "        results = {m.name: m.result() for m in self.metrics}\n",
    "        results.update({\"student_loss\": student_loss})\n",
    "        return results"
   ]
  },
  {
   "cell_type": "markdown",
   "metadata": {
    "id": "wyZ64m6Fr_Jp"
   },
   "source": [
    "Creating Teacher and Student Model"
   ]
  },
  {
   "cell_type": "code",
   "execution_count": null,
   "metadata": {
    "id": "k_rryJTb0HEF"
   },
   "outputs": [],
   "source": []
  },
  {
   "cell_type": "code",
   "execution_count": 3,
   "metadata": {
    "colab": {
     "base_uri": "https://localhost:8080/"
    },
    "id": "I1UNXHvkn83h",
    "outputId": "6ddec359-aa2c-4557-9cea-cd14ffe73b18"
   },
   "outputs": [
    {
     "name": "stdout",
     "output_type": "stream",
     "text": [
      "Found 2216 images belonging to 5 classes.\n",
      "Found 554 images belonging to 5 classes.\n"
     ]
    }
   ],
   "source": [
    "from keras.preprocessing.image import ImageDataGenerator\n",
    "train_datagen_with_aug = ImageDataGenerator(rescale=1./255, validation_split=0.2)\n",
    "train_generator = train_datagen_with_aug.flow_from_directory(\n",
    "    r'/Users/hardikchhipa/Desktop/DR-IMG_SET',\n",
    "    target_size=(224, 224),\n",
    "    batch_size=32,\n",
    "    # color_mode='grayscale',\n",
    "    class_mode='sparse',\n",
    "    subset='training'\n",
    "    ) # set as training data\n",
    "\n",
    "validation_generator = train_datagen_with_aug.flow_from_directory(\n",
    "    r'/Users/hardikchhipa/Desktop/DR-IMG_SET', # same directory as training data\n",
    "    target_size=(224, 224),\n",
    "    batch_size=32,\n",
    "    # color_mode='grayscale',\n",
    "    class_mode='sparse',\n",
    "    subset='validation'\n",
    "    ) # set as validation data\n",
    "\n",
    "#input_img = Input(shape=(224, 224, 3))"
   ]
  },
  {
   "cell_type": "code",
   "execution_count": 4,
   "metadata": {
    "id": "eyQ-FL5QikR7"
   },
   "outputs": [],
   "source": [
    "from keras.models import Model\n",
    "from keras.layers import Input\n",
    "from keras.layers import Conv2D\n",
    "from keras.layers import MaxPooling2D, AveragePooling2D\n",
    "# from keras.layers.merge import concatenate\n",
    "\n",
    "from keras.preprocessing.image import ImageDataGenerator\n",
    "from keras.layers import Flatten, Dense\n",
    "from keras.layers import Activation\n",
    "from keras.layers import BatchNormalization\n",
    "from keras.callbacks import ModelCheckpoint, EarlyStopping\n",
    "\n",
    "from tensorflow import keras\n",
    "from tensorflow.keras import layers\n",
    "from keras.models import Sequential\n",
    "from tensorflow.keras.layers import Flatten, Dense, Dropout\n",
    "from keras.layers import Input, Conv2D, MaxPooling2D, AveragePooling2D\n",
    "from tensorflow.keras.optimizers import Adam\n",
    "import numpy as np"
   ]
  },
  {
   "cell_type": "code",
   "execution_count": 5,
   "metadata": {
    "colab": {
     "base_uri": "https://localhost:8080/"
    },
    "id": "DMgaVo4EsCYc",
    "outputId": "1591d518-9ab1-46f5-bdd5-419532c9b058"
   },
   "outputs": [
    {
     "name": "stdout",
     "output_type": "stream",
     "text": [
      "Downloading data from https://storage.googleapis.com/tensorflow/keras-applications/densenet/densenet201_weights_tf_dim_ordering_tf_kernels_notop.h5\n",
      "74836368/74836368 [==============================] - 18s 0us/step\n",
      "Model: \"sequential\"\n",
      "_________________________________________________________________\n",
      " Layer (type)                Output Shape              Param #   \n",
      "=================================================================\n",
      " densenet201 (Functional)    (None, 7, 7, 1920)        18321984  \n",
      "                                                                 \n",
      " flatten (Flatten)           (None, 94080)             0         \n",
      "                                                                 \n",
      " dropout (Dropout)           (None, 94080)             0         \n",
      "                                                                 \n",
      " dense (Dense)               (None, 1024)              96338944  \n",
      "                                                                 \n",
      " dropout_1 (Dropout)         (None, 1024)              0         \n",
      "                                                                 \n",
      " dense_1 (Dense)             (None, 512)               524800    \n",
      "                                                                 \n",
      " dense_2 (Dense)             (None, 5)                 2565      \n",
      "                                                                 \n",
      "=================================================================\n",
      "Total params: 115188293 (439.41 MB)\n",
      "Trainable params: 96866309 (369.52 MB)\n",
      "Non-trainable params: 18321984 (69.89 MB)\n",
      "_________________________________________________________________\n",
      "Model: \"student\"\n",
      "_________________________________________________________________\n",
      " Layer (type)                Output Shape              Param #   \n",
      "=================================================================\n",
      " conv2d (Conv2D)             (None, 112, 112, 16)      1216      \n",
      "                                                                 \n",
      " re_lu (ReLU)                (None, 112, 112, 16)      0         \n",
      "                                                                 \n",
      " max_pooling2d (MaxPooling2  (None, 56, 56, 16)        0         \n",
      " D)                                                              \n",
      "                                                                 \n",
      " conv2d_1 (Conv2D)           (None, 28, 28, 32)        4640      \n",
      "                                                                 \n",
      " re_lu_1 (ReLU)              (None, 28, 28, 32)        0         \n",
      "                                                                 \n",
      " max_pooling2d_1 (MaxPoolin  (None, 14, 14, 32)        0         \n",
      " g2D)                                                            \n",
      "                                                                 \n",
      " conv2d_2 (Conv2D)           (None, 7, 7, 48)          13872     \n",
      "                                                                 \n",
      " re_lu_2 (ReLU)              (None, 7, 7, 48)          0         \n",
      "                                                                 \n",
      " max_pooling2d_2 (MaxPoolin  (None, 4, 4, 48)          0         \n",
      " g2D)                                                            \n",
      "                                                                 \n",
      " conv2d_3 (Conv2D)           (None, 2, 2, 64)          27712     \n",
      "                                                                 \n",
      " re_lu_3 (ReLU)              (None, 2, 2, 64)          0         \n",
      "                                                                 \n",
      " max_pooling2d_3 (MaxPoolin  (None, 1, 1, 64)          0         \n",
      " g2D)                                                            \n",
      "                                                                 \n",
      " conv2d_4 (Conv2D)           (None, 1, 1, 128)         73856     \n",
      "                                                                 \n",
      " re_lu_4 (ReLU)              (None, 1, 1, 128)         0         \n",
      "                                                                 \n",
      " max_pooling2d_4 (MaxPoolin  (None, 1, 1, 128)         0         \n",
      " g2D)                                                            \n",
      "                                                                 \n",
      " conv2d_5 (Conv2D)           (None, 1, 1, 64)          73792     \n",
      "                                                                 \n",
      " re_lu_5 (ReLU)              (None, 1, 1, 64)          0         \n",
      "                                                                 \n",
      " max_pooling2d_5 (MaxPoolin  (None, 1, 1, 64)          0         \n",
      " g2D)                                                            \n",
      "                                                                 \n",
      " flatten_1 (Flatten)         (None, 64)                0         \n",
      "                                                                 \n",
      " dense_3 (Dense)             (None, 600)               39000     \n",
      "                                                                 \n",
      " dense_4 (Dense)             (None, 300)               180300    \n",
      "                                                                 \n",
      " dense_5 (Dense)             (None, 150)               45150     \n",
      "                                                                 \n",
      " dense_6 (Dense)             (None, 5)                 755       \n",
      "                                                                 \n",
      "=================================================================\n",
      "Total params: 460293 (1.76 MB)\n",
      "Trainable params: 460293 (1.76 MB)\n",
      "Non-trainable params: 0 (0.00 Byte)\n",
      "_________________________________________________________________\n"
     ]
    }
   ],
   "source": [
    "# Create the teacher\n",
    "from tensorflow.keras.models import load_model\n",
    "#teacher = load_model('/content/drive/MyDrive/RESNET_152(ADAM_0.01).h5')\n",
    "#teacher = ((\"/content/drive/MyDrive/RESNET_152(ADAM_0.01).h5\"),\n",
    "   # [\n",
    "      #  keras.Input(shape=(28, 28, 1)),\n",
    "       # layers.Conv2D(256, (3, 3), strides=(2, 2), padding=\"same\"),\n",
    "       # layers.LeakyReLU(alpha=0.2),\n",
    "      #  layers.MaxPooling2D(pool_size=(2, 2), strides=(1, 1), padding=\"same\"),\n",
    "       # layers.Conv2D(512, (3, 3), strides=(2, 2), padding=\"same\"),\n",
    "      #  layers.Flatten(),\n",
    "       # layers.Dense(10),\n",
    "   #() ],\n",
    "    #name=\"teacher\"\n",
    "\n",
    "from tensorflow.keras.applications import DenseNet201\n",
    "import tensorflow.keras.applications\n",
    "\n",
    "\n",
    "# Load DenseNet-169 model without top layers\n",
    "densenet201_model = DenseNet201(weights='imagenet', include_top=False, input_shape=(224, 224, 3))\n",
    "\n",
    "# Create a Sequential model\n",
    "DENSENET_201 = keras.models.Sequential()\n",
    "\n",
    "# Set layers in densenet169_model to non-trainable\n",
    "for layer in densenet201_model.layers:\n",
    "    layer.trainable = False\n",
    "\n",
    "# Add layers to the model\n",
    "DENSENET_201.add(densenet201_model)\n",
    "DENSENET_201.add(Flatten())\n",
    "DENSENET_201.add(Dropout(0.2))\n",
    "DENSENET_201.add(Dense(1024, activation='relu'))\n",
    "DENSENET_201.add(Dropout(0.2))\n",
    "DENSENET_201.add(Dense(512, activation='relu'))\n",
    "DENSENET_201.add(Dense(5, activation='softmax'))\n",
    "\n",
    "\n",
    "DENSENET_201.summary()\n",
    "\n",
    "teacher= DENSENET_201\n",
    "\n",
    "# Create the student\n",
    "student = keras.Sequential(\n",
    "    [\n",
    "        keras.Input(shape=(224, 224, 3)),\n",
    "\n",
    "        layers.Conv2D(16, (5, 5), strides=(2, 2), padding=\"same\"),\n",
    "        layers.ReLU(),\n",
    "        layers.MaxPooling2D(pool_size=(2, 2), strides=(2, 2), padding=\"same\"),\n",
    "\n",
    "        layers.Conv2D(32, (3, 3), strides=(2, 2), padding=\"same\"),\n",
    "        layers.ReLU(),\n",
    "        layers.MaxPooling2D(pool_size=(2, 2), strides=(2, 2), padding=\"same\"),\n",
    "\n",
    "\n",
    "        layers.Conv2D(48, (3, 3), strides=(2, 2), padding=\"same\"),\n",
    "        layers.ReLU(),\n",
    "        layers.MaxPooling2D(pool_size=(2, 2), strides=(2, 2), padding=\"same\"),\n",
    "\n",
    "\n",
    "        layers.Conv2D(64, (3, 3), strides=(2, 2), padding=\"same\"),\n",
    "        layers.ReLU(),\n",
    "        layers.MaxPooling2D(pool_size=(2, 2), strides=(2, 2), padding=\"same\"),\n",
    "\n",
    "        layers.Conv2D(128, (3, 3), strides=(1, 1), padding=\"same\"),\n",
    "        layers.ReLU(),\n",
    "        layers.MaxPooling2D(pool_size=(2, 2), strides=(2, 2), padding=\"same\"),\n",
    "\n",
    "        layers.Conv2D(64, (3, 3), strides=(2, 2), padding=\"same\"),\n",
    "        layers.ReLU(),\n",
    "        layers.MaxPooling2D(pool_size=(2, 2), strides=(2, 2), padding=\"same\"),\n",
    "\n",
    "        layers.Flatten(),\n",
    "        layers.Dense(600),\n",
    "        layers.Dense(300),\n",
    "        layers.Dense(150),\n",
    "        layers.Dense(5),\n",
    "\n",
    "\n",
    "    ],\n",
    "    name=\"student\",\n",
    ")\n",
    "student.summary()\n",
    "\n",
    "# Clone student for later comparison\n",
    "student_scratch = keras.models.clone_model(student)\n"
   ]
  },
  {
   "cell_type": "markdown",
   "metadata": {
    "id": "CVkFoX6Msl4H"
   },
   "source": [
    "Train the Teacher Network and Distill the Teacher weights to Student"
   ]
  },
  {
   "cell_type": "code",
   "execution_count": 7,
   "metadata": {
    "colab": {
     "background_save": true,
     "base_uri": "https://localhost:8080/"
    },
    "id": "9rxYbsMKssBk",
    "outputId": "e1e01a38-1784-4c28-83b5-33da0c9780f3"
   },
   "outputs": [
    {
     "name": "stdout",
     "output_type": "stream",
     "text": [
      "Epoch 1/25\n",
      "70/70 [==============================] - 106s 1s/step - sparse_categorical_accuracy: 0.4513 - student_loss: 1.5017 - distillation_loss: 0.0116 - val_sparse_categorical_accuracy: 0.5397 - val_student_loss: 1.4590\n",
      "Epoch 2/25\n",
      "70/70 [==============================] - 107s 2s/step - sparse_categorical_accuracy: 0.4901 - student_loss: 1.4934 - distillation_loss: 0.0119 - val_sparse_categorical_accuracy: 0.5650 - val_student_loss: 1.5121\n",
      "Epoch 3/25\n",
      "70/70 [==============================] - 112s 2s/step - sparse_categorical_accuracy: 0.4824 - student_loss: 1.4920 - distillation_loss: 0.0119 - val_sparse_categorical_accuracy: 0.5704 - val_student_loss: 1.4797\n",
      "Epoch 4/25\n",
      "70/70 [==============================] - 115s 2s/step - sparse_categorical_accuracy: 0.4928 - student_loss: 1.4890 - distillation_loss: 0.0120 - val_sparse_categorical_accuracy: 0.5415 - val_student_loss: 1.4627\n",
      "Epoch 5/25\n",
      "70/70 [==============================] - 108s 2s/step - sparse_categorical_accuracy: 0.5000 - student_loss: 1.4871 - distillation_loss: 0.0122 - val_sparse_categorical_accuracy: 0.5686 - val_student_loss: 1.4855\n",
      "Epoch 6/25\n",
      "70/70 [==============================] - 108s 2s/step - sparse_categorical_accuracy: 0.5144 - student_loss: 1.4802 - distillation_loss: 0.0126 - val_sparse_categorical_accuracy: 0.5379 - val_student_loss: 1.4742\n",
      "Epoch 7/25\n",
      "70/70 [==============================] - 108s 2s/step - sparse_categorical_accuracy: 0.5126 - student_loss: 1.4825 - distillation_loss: 0.0125 - val_sparse_categorical_accuracy: 0.5794 - val_student_loss: 1.5563\n",
      "Epoch 8/25\n",
      "70/70 [==============================] - 111s 2s/step - sparse_categorical_accuracy: 0.5338 - student_loss: 1.4780 - distillation_loss: 0.0125 - val_sparse_categorical_accuracy: 0.5704 - val_student_loss: 1.4931\n",
      "Epoch 9/25\n",
      "70/70 [==============================] - 111s 2s/step - sparse_categorical_accuracy: 0.5487 - student_loss: 1.4733 - distillation_loss: 0.0128 - val_sparse_categorical_accuracy: 0.5505 - val_student_loss: 1.4377\n",
      "Epoch 10/25\n",
      "70/70 [==============================] - 113s 2s/step - sparse_categorical_accuracy: 0.5253 - student_loss: 1.4749 - distillation_loss: 0.0128 - val_sparse_categorical_accuracy: 0.5722 - val_student_loss: 1.4580\n",
      "Epoch 11/25\n",
      "70/70 [==============================] - 118s 2s/step - sparse_categorical_accuracy: 0.5609 - student_loss: 1.4694 - distillation_loss: 0.0130 - val_sparse_categorical_accuracy: 0.5812 - val_student_loss: 1.4096\n",
      "Epoch 12/25\n",
      "70/70 [==============================] - 112s 2s/step - sparse_categorical_accuracy: 0.5645 - student_loss: 1.4670 - distillation_loss: 0.0131 - val_sparse_categorical_accuracy: 0.4711 - val_student_loss: 1.4875\n",
      "Epoch 13/25\n",
      "70/70 [==============================] - 117s 2s/step - sparse_categorical_accuracy: 0.5546 - student_loss: 1.4659 - distillation_loss: 0.0131 - val_sparse_categorical_accuracy: 0.5884 - val_student_loss: 1.4078\n",
      "Epoch 14/25\n",
      "70/70 [==============================] - 121s 2s/step - sparse_categorical_accuracy: 0.5605 - student_loss: 1.4621 - distillation_loss: 0.0133 - val_sparse_categorical_accuracy: 0.5632 - val_student_loss: 1.4056\n",
      "Epoch 15/25\n",
      "70/70 [==============================] - 115s 2s/step - sparse_categorical_accuracy: 0.5839 - student_loss: 1.4569 - distillation_loss: 0.0138 - val_sparse_categorical_accuracy: 0.5614 - val_student_loss: 1.4968\n",
      "Epoch 16/25\n",
      "70/70 [==============================] - 131s 2s/step - sparse_categorical_accuracy: 0.5794 - student_loss: 1.4540 - distillation_loss: 0.0136 - val_sparse_categorical_accuracy: 0.4856 - val_student_loss: 1.4978\n",
      "Epoch 17/25\n",
      "70/70 [==============================] - 146s 2s/step - sparse_categorical_accuracy: 0.5758 - student_loss: 1.4558 - distillation_loss: 0.0136 - val_sparse_categorical_accuracy: 0.5830 - val_student_loss: 1.5708\n",
      "Epoch 18/25\n",
      "70/70 [==============================] - 170s 2s/step - sparse_categorical_accuracy: 0.5997 - student_loss: 1.4443 - distillation_loss: 0.0143 - val_sparse_categorical_accuracy: 0.4910 - val_student_loss: 1.4906\n",
      "Epoch 19/25\n",
      "70/70 [==============================] - 155s 2s/step - sparse_categorical_accuracy: 0.5866 - student_loss: 1.4460 - distillation_loss: 0.0138 - val_sparse_categorical_accuracy: 0.5632 - val_student_loss: 1.4957\n",
      "Epoch 20/25\n",
      "70/70 [==============================] - 115s 2s/step - sparse_categorical_accuracy: 0.5898 - student_loss: 1.4430 - distillation_loss: 0.0142 - val_sparse_categorical_accuracy: 0.5433 - val_student_loss: 1.3920\n",
      "Epoch 21/25\n",
      "70/70 [==============================] - 119s 2s/step - sparse_categorical_accuracy: 0.6155 - student_loss: 1.4388 - distillation_loss: 0.0143 - val_sparse_categorical_accuracy: 0.5542 - val_student_loss: 1.5049\n",
      "Epoch 22/25\n",
      "70/70 [==============================] - 120s 2s/step - sparse_categorical_accuracy: 0.5898 - student_loss: 1.4343 - distillation_loss: 0.0144 - val_sparse_categorical_accuracy: 0.5054 - val_student_loss: 1.4479\n",
      "Epoch 23/25\n",
      "70/70 [==============================] - 117s 2s/step - sparse_categorical_accuracy: 0.6345 - student_loss: 1.4273 - distillation_loss: 0.0148 - val_sparse_categorical_accuracy: 0.5235 - val_student_loss: 1.4417\n",
      "Epoch 24/25\n",
      "70/70 [==============================] - 122s 2s/step - sparse_categorical_accuracy: 0.6494 - student_loss: 1.4145 - distillation_loss: 0.0155 - val_sparse_categorical_accuracy: 0.5307 - val_student_loss: 1.5101\n",
      "Epoch 25/25\n",
      "70/70 [==============================] - 119s 2s/step - sparse_categorical_accuracy: 0.6435 - student_loss: 1.4245 - distillation_loss: 0.0151 - val_sparse_categorical_accuracy: 0.5108 - val_student_loss: 1.5113\n"
     ]
    },
    {
     "data": {
      "text/plain": [
       "<keras.src.callbacks.History at 0x280515610>"
      ]
     },
     "execution_count": 7,
     "metadata": {},
     "output_type": "execute_result"
    }
   ],
   "source": [
    "# Import the legacy optimizer\n",
    "from tensorflow.keras.optimizers import legacy\n",
    "\n",
    "# ...\n",
    "\n",
    "# Initialize and compile distiller with the legacy optimizer\n",
    "distiller = Distiller(student=student, teacher=teacher)\n",
    "distiller.compile(\n",
    "    optimizer=legacy.Adam(),  # Use legacy Adam optimizer\n",
    "    metrics=[keras.metrics.SparseCategoricalAccuracy()],\n",
    "    student_loss_fn=keras.losses.SparseCategoricalCrossentropy(from_logits=True),\n",
    "    distillation_loss_fn=keras.losses.KLDivergence(),\n",
    "    alpha=0.1,\n",
    "    temperature=6,\n",
    ")\n",
    "\n",
    "# Distill teacher to student\n",
    "graph = distiller.fit(train_generator, epochs=25, validation_data=validation_generator)\n",
    "graph\n",
    "\n",
    "# Evaluate student on the test dataset\n",
    "# distiller.evaluate(train_generator, epochs=15, validation_data=validation_generator)\n"
   ]
  },
  {
   "cell_type": "code",
   "execution_count": null,
   "metadata": {
    "id": "GzQjS5y-FE02"
   },
   "outputs": [],
   "source": []
  },
  {
   "cell_type": "code",
   "execution_count": 28,
   "metadata": {
    "colab": {
     "base_uri": "https://localhost:8080/",
     "height": 268
    },
    "id": "1mIIoSYp115J",
    "outputId": "c194ce2f-fb7d-4c26-c626-3986e7a8433b"
   },
   "outputs": [
    {
     "data": {
      "image/png": "[encoded data removed]",
      "text/plain": [
       "<Figure size 640x480 with 1 Axes>"
      ]
     },
     "metadata": {},
     "output_type": "display_data"
    }
   ],
   "source": [
    "import matplotlib.pyplot as plt\n",
    "\n",
    "fig1 = plt.gcf()\n",
    "\n",
    "plt.plot(graph.history['sparse_categorical_accuracy'])\n",
    "plt.plot(graph.history['val_sparse_categorical_accuracy'])\n",
    "\n",
    "# plt.axis(ymin=0.4, ymax=1)\n",
    "plt.grid()\n",
    "\n",
    "plt.title('OSPS-MicroNet model Accuracy to its teacher DENSENET_201')\n",
    "plt.ylabel('Accuracy')\n",
    "plt.xlabel('Epochs')\n",
    "plt.legend(['train','validation'])\n",
    "\n",
    "plt.show()"
   ]
  },
  {
   "cell_type": "code",
   "execution_count": 30,
   "metadata": {
    "colab": {
     "base_uri": "https://localhost:8080/",
     "height": 197
    },
    "id": "M5komxG_zgBG",
    "outputId": "4170f11d-e9c3-413a-a026-6d138334f34d"
   },
   "outputs": [
    {
     "name": "stdout",
     "output_type": "stream",
     "text": [
      "The highest accuracy achieved for OSPS-MicroNet model Accuracy to its teacher DENSENET_169 model is 68.77256035804749\n"
     ]
    }
   ],
   "source": [
    "max_acc = max(graph.history['val_sparse_categorical_accuracy'])\n",
    "print('The highest accuracy achieved for OSPS-MicroNet model Accuracy to its teacher DENSENET_201 model is',max_acc*100)"
   ]
  },
  {
   "cell_type": "code",
   "execution_count": null,
   "metadata": {},
   "outputs": [],
   "source": []
  }
 ],
 "metadata": {
  "accelerator": "TPU",
  "colab": {
   "gpuClass": "premium",
   "machine_shape": "hm",
   "provenance": []
  },
  "gpuClass": "premium",
  "kernelspec": {
   "display_name": "Python 3 (ipykernel)",
   "language": "python",
   "name": "python3"
  },
  "language_info": {
   "codemirror_mode": {
    "name": "ipython",
    "version": 3
   },
   "file_extension": ".py",
   "mimetype": "text/x-python",
   "name": "python",
   "nbconvert_exporter": "python",
   "pygments_lexer": "ipython3",
   "version": "3.11.5"
  }
 },
 "nbformat": 4,
 "nbformat_minor": 4
}
