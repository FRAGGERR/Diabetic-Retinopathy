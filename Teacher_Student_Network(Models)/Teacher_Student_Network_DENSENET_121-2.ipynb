{
 "cells": [
  {
   "cell_type": "code",
   "execution_count": null,
   "metadata": {
    "colab": {
     "base_uri": "https://localhost:8080/"
    },
    "id": "Pue5ETcSjW0c",
    "outputId": "73a7680d-a4b8-453b-9825-59ab61ae36e1"
   },
   "outputs": [
    {
     "name": "stdout",
     "output_type": "stream",
     "text": [
      "Mounted at /content/drive\n"
     ]
    }
   ],
   "source": [
    "from google.colab import drive\n",
    "drive.mount('/content/drive')"
   ]
  },
  {
   "cell_type": "code",
   "execution_count": 1,
   "metadata": {
    "id": "vHJMHq7mq37P",
    "tags": []
   },
   "outputs": [],
   "source": [
    "import tensorflow as tf\n",
    "from tensorflow import keras\n",
    "from tensorflow.keras import layers\n",
    "import numpy as np\n"
   ]
  },
  {
   "cell_type": "markdown",
   "metadata": {
    "id": "lSQE006nrfgJ"
   },
   "source": []
  },
  {
   "cell_type": "markdown",
   "metadata": {
    "id": "z8MG7D9lrjb7"
   },
   "source": [
    "Distiller Class"
   ]
  },
  {
   "cell_type": "code",
   "execution_count": null,
   "metadata": {
    "id": "JtNCCJkmI-Ag"
   },
   "outputs": [],
   "source": []
  },
  {
   "cell_type": "code",
   "execution_count": 2,
   "metadata": {
    "id": "QHgbeZourpd0",
    "tags": []
   },
   "outputs": [],
   "source": [
    "class Distiller(keras.Model):\n",
    "    def __init__(self, student, teacher):\n",
    "        super(Distiller, self).__init__()\n",
    "        self.teacher = teacher\n",
    "        self.student = student\n",
    "\n",
    "    def compile(\n",
    "        self,\n",
    "        optimizer,\n",
    "        metrics,\n",
    "        student_loss_fn,\n",
    "        distillation_loss_fn,\n",
    "        alpha=0.1,\n",
    "        temperature=3,\n",
    "    ):\n",
    "        \"\"\" Configure the distiller.\n",
    "\n",
    "        Args:\n",
    "            optimizer: Keras optimizer for the student weights\n",
    "            metrics: Keras metrics for evaluation\n",
    "            student_loss_fn: Loss function of difference between student\n",
    "                predictions and ground-truth\n",
    "            distillation_loss_fn: Loss function of difference between soft\n",
    "                student predictions and soft teacher predictions\n",
    "            alpha: weight to student_loss_fn and 1-alpha to distillation_loss_fn\n",
    "            temperature: Temperature for softening probability distributions.\n",
    "                Larger temperature gives softer distributions.\n",
    "        \"\"\"\n",
    "        super(Distiller, self).compile(optimizer=optimizer, metrics=metrics)\n",
    "        self.student_loss_fn = student_loss_fn\n",
    "        self.distillation_loss_fn = distillation_loss_fn\n",
    "        self.alpha = alpha\n",
    "        self.temperature = temperature\n",
    "\n",
    "    def train_step(self, data):\n",
    "        # Unpack data\n",
    "        x, y = data\n",
    "\n",
    "        # Forward pass of teacher\n",
    "        teacher_predictions = self.teacher(x, training=False)\n",
    "\n",
    "        with tf.GradientTape() as tape:\n",
    "            # Forward pass of student\n",
    "            student_predictions = self.student(x, training=True)\n",
    "\n",
    "            # Compute losses\n",
    "            student_loss = self.student_loss_fn(y, student_predictions)\n",
    "\n",
    "            # Compute scaled distillation loss from https://arxiv.org/abs/1503.02531\n",
    "            # The magnitudes of the gradients produced by the soft targets scale\n",
    "            # as 1/T^2, multiply them by T^2 when using both hard and soft targets.\n",
    "            distillation_loss = (\n",
    "                self.distillation_loss_fn(\n",
    "                    tf.nn.softmax(teacher_predictions / self.temperature, axis=1),\n",
    "                    tf.nn.softmax(student_predictions / self.temperature, axis=1),\n",
    "                )\n",
    "                * self.temperature**2\n",
    "            )\n",
    "\n",
    "            loss = self.alpha * student_loss + (1 - self.alpha) * distillation_loss\n",
    "\n",
    "        # Compute gradients\n",
    "        trainable_vars = self.student.trainable_variables\n",
    "        gradients = tape.gradient(loss, trainable_vars)\n",
    "\n",
    "        # Update weights\n",
    "        self.optimizer.apply_gradients(zip(gradients, trainable_vars))\n",
    "\n",
    "        # Update the metrics configured in `compile()`.\n",
    "        self.compiled_metrics.update_state(y, student_predictions)\n",
    "\n",
    "        # Return a dict of performance\n",
    "        results = {m.name: m.result() for m in self.metrics}\n",
    "        results.update(\n",
    "            {\"student_loss\": student_loss, \"distillation_loss\": distillation_loss}\n",
    "        )\n",
    "        return results\n",
    "\n",
    "    def test_step(self, data):\n",
    "        # Unpack the data\n",
    "        x, y = data\n",
    "\n",
    "        # Compute predictions\n",
    "        y_prediction = self.student(x, training=False)\n",
    "\n",
    "        # Calculate the loss\n",
    "        student_loss = self.student_loss_fn(y, y_prediction)\n",
    "\n",
    "        # Update the metrics.\n",
    "        self.compiled_metrics.update_state(y, y_prediction)\n",
    "\n",
    "        # Return a dict of performance\n",
    "        results = {m.name: m.result() for m in self.metrics}\n",
    "        results.update({\"student_loss\": student_loss})\n",
    "        return results"
   ]
  },
  {
   "cell_type": "markdown",
   "metadata": {
    "id": "wyZ64m6Fr_Jp"
   },
   "source": [
    "Creating Teacher and Student Model"
   ]
  },
  {
   "cell_type": "code",
   "execution_count": null,
   "metadata": {
    "id": "k_rryJTb0HEF"
   },
   "outputs": [],
   "source": []
  },
  {
   "cell_type": "code",
   "execution_count": 3,
   "metadata": {
    "colab": {
     "base_uri": "https://localhost:8080/"
    },
    "id": "I1UNXHvkn83h",
    "outputId": "6ddec359-aa2c-4557-9cea-cd14ffe73b18",
    "tags": []
   },
   "outputs": [
    {
     "name": "stdout",
     "output_type": "stream",
     "text": [
      "Found 2200 images belonging to 5 classes.\n",
      "Found 550 images belonging to 5 classes.\n"
     ]
    }
   ],
   "source": [
    "from keras.preprocessing.image import ImageDataGenerator\n",
    "train_datagen_with_aug = ImageDataGenerator(rescale=1./255, validation_split=0.2)\n",
    "train_generator = train_datagen_with_aug.flow_from_directory(\n",
    "    r'/Users/janeniej/Desktop/DR_IMAGESET',\n",
    "    target_size=(224, 224),\n",
    "    batch_size=32,\n",
    "    # color_mode='grayscale',\n",
    "    class_mode='sparse',\n",
    "    subset='training'\n",
    "    ) # set as training data\n",
    "\n",
    "validation_generator = train_datagen_with_aug.flow_from_directory(\n",
    "    r'/Users/janeniej/Desktop/DR_IMAGESET', # same directory as training data\n",
    "    target_size=(224, 224),\n",
    "    batch_size=32,\n",
    "    # color_mode='grayscale',\n",
    "    class_mode='sparse',\n",
    "    subset='validation'\n",
    "    ) # set as validation data\n",
    "\n",
    "#input_img = Input(shape=(224, 224, 3))"
   ]
  },
  {
   "cell_type": "code",
   "execution_count": 4,
   "metadata": {
    "id": "eyQ-FL5QikR7",
    "tags": []
   },
   "outputs": [],
   "source": [
    "from keras.models import Model\n",
    "from keras.layers import Input\n",
    "from keras.layers import Conv2D\n",
    "from keras.layers import MaxPooling2D, AveragePooling2D\n",
    "# from keras.layers.merge import concatenate\n",
    "\n",
    "from keras.preprocessing.image import ImageDataGenerator\n",
    "from keras.layers import Flatten, Dense\n",
    "from keras.layers import Activation\n",
    "from keras.layers import BatchNormalization\n",
    "from keras.callbacks import ModelCheckpoint, EarlyStopping\n",
    "\n",
    "from tensorflow import keras\n",
    "from tensorflow.keras import layers\n",
    "from keras.models import Sequential\n",
    "from tensorflow.keras.layers import Flatten, Dense, Dropout\n",
    "from keras.layers import Input, Conv2D, MaxPooling2D, AveragePooling2D\n",
    "from tensorflow.keras.optimizers import Adam\n",
    "import numpy as np"
   ]
  },
  {
   "cell_type": "code",
   "execution_count": 5,
   "metadata": {
    "colab": {
     "base_uri": "https://localhost:8080/"
    },
    "id": "DMgaVo4EsCYc",
    "outputId": "1591d518-9ab1-46f5-bdd5-419532c9b058",
    "tags": []
   },
   "outputs": [
    {
     "name": "stdout",
     "output_type": "stream",
     "text": [
      "Model: \"sequential\"\n",
      "_________________________________________________________________\n",
      " Layer (type)                Output Shape              Param #   \n",
      "=================================================================\n",
      " densenet121 (Functional)    (None, 7, 7, 1024)        7037504   \n",
      "                                                                 \n",
      " flatten (Flatten)           (None, 50176)             0         \n",
      "                                                                 \n",
      " dropout (Dropout)           (None, 50176)             0         \n",
      "                                                                 \n",
      " dense (Dense)               (None, 1024)              51381248  \n",
      "                                                                 \n",
      " dropout_1 (Dropout)         (None, 1024)              0         \n",
      "                                                                 \n",
      " dense_1 (Dense)             (None, 512)               524800    \n",
      "                                                                 \n",
      " dense_2 (Dense)             (None, 5)                 2565      \n",
      "                                                                 \n",
      "=================================================================\n",
      "Total params: 58946117 (224.86 MB)\n",
      "Trainable params: 51908613 (198.02 MB)\n",
      "Non-trainable params: 7037504 (26.85 MB)\n",
      "_________________________________________________________________\n",
      "Model: \"student\"\n",
      "_________________________________________________________________\n",
      " Layer (type)                Output Shape              Param #   \n",
      "=================================================================\n",
      " conv2d (Conv2D)             (None, 112, 112, 16)      1216      \n",
      "                                                                 \n",
      " re_lu (ReLU)                (None, 112, 112, 16)      0         \n",
      "                                                                 \n",
      " max_pooling2d (MaxPooling2  (None, 56, 56, 16)        0         \n",
      " D)                                                              \n",
      "                                                                 \n",
      " conv2d_1 (Conv2D)           (None, 28, 28, 32)        4640      \n",
      "                                                                 \n",
      " re_lu_1 (ReLU)              (None, 28, 28, 32)        0         \n",
      "                                                                 \n",
      " max_pooling2d_1 (MaxPoolin  (None, 14, 14, 32)        0         \n",
      " g2D)                                                            \n",
      "                                                                 \n",
      " conv2d_2 (Conv2D)           (None, 7, 7, 48)          13872     \n",
      "                                                                 \n",
      " re_lu_2 (ReLU)              (None, 7, 7, 48)          0         \n",
      "                                                                 \n",
      " max_pooling2d_2 (MaxPoolin  (None, 4, 4, 48)          0         \n",
      " g2D)                                                            \n",
      "                                                                 \n",
      " conv2d_3 (Conv2D)           (None, 2, 2, 64)          27712     \n",
      "                                                                 \n",
      " re_lu_3 (ReLU)              (None, 2, 2, 64)          0         \n",
      "                                                                 \n",
      " max_pooling2d_3 (MaxPoolin  (None, 1, 1, 64)          0         \n",
      " g2D)                                                            \n",
      "                                                                 \n",
      " conv2d_4 (Conv2D)           (None, 1, 1, 128)         73856     \n",
      "                                                                 \n",
      " re_lu_4 (ReLU)              (None, 1, 1, 128)         0         \n",
      "                                                                 \n",
      " max_pooling2d_4 (MaxPoolin  (None, 1, 1, 128)         0         \n",
      " g2D)                                                            \n",
      "                                                                 \n",
      " conv2d_5 (Conv2D)           (None, 1, 1, 64)          73792     \n",
      "                                                                 \n",
      " re_lu_5 (ReLU)              (None, 1, 1, 64)          0         \n",
      "                                                                 \n",
      " max_pooling2d_5 (MaxPoolin  (None, 1, 1, 64)          0         \n",
      " g2D)                                                            \n",
      "                                                                 \n",
      " flatten_1 (Flatten)         (None, 64)                0         \n",
      "                                                                 \n",
      " dense_3 (Dense)             (None, 600)               39000     \n",
      "                                                                 \n",
      " dense_4 (Dense)             (None, 300)               180300    \n",
      "                                                                 \n",
      " dense_5 (Dense)             (None, 150)               45150     \n",
      "                                                                 \n",
      " dense_6 (Dense)             (None, 5)                 755       \n",
      "                                                                 \n",
      "=================================================================\n",
      "Total params: 460293 (1.76 MB)\n",
      "Trainable params: 460293 (1.76 MB)\n",
      "Non-trainable params: 0 (0.00 Byte)\n",
      "_________________________________________________________________\n"
     ]
    }
   ],
   "source": [
    "# Create the teacher\n",
    "from tensorflow.keras.models import load_model\n",
    "#teacher = load_model('/content/drive/MyDrive/RESNET_152(ADAM_0.01).h5')\n",
    "#teacher = ((\"/content/drive/MyDrive/RESNET_152(ADAM_0.01).h5\"),\n",
    "   # [\n",
    "      #  keras.Input(shape=(28, 28, 1)),\n",
    "       # layers.Conv2D(256, (3, 3), strides=(2, 2), padding=\"same\"),\n",
    "       # layers.LeakyReLU(alpha=0.2),\n",
    "      #  layers.MaxPooling2D(pool_size=(2, 2), strides=(1, 1), padding=\"same\"),\n",
    "       # layers.Conv2D(512, (3, 3), strides=(2, 2), padding=\"same\"),\n",
    "      #  layers.Flatten(),\n",
    "       # layers.Dense(10),\n",
    "   #() ],\n",
    "    #name=\"teacher\"\n",
    "\n",
    "from tensorflow.keras.applications import DenseNet121\n",
    "\n",
    "# Load DenseNet-121 model without top layers\n",
    "densenet121_model = DenseNet121(weights='imagenet', include_top=False, input_shape=(224, 224, 3))\n",
    "\n",
    "# Create a Sequential model\n",
    "DENSENET_121 = Sequential()\n",
    "\n",
    "# Set layers in densenet121_model to non-trainable\n",
    "for layer in densenet121_model.layers:\n",
    "    layer.trainable = False\n",
    "\n",
    "# Add layers to the model\n",
    "DENSENET_121.add(densenet121_model)\n",
    "DENSENET_121.add(Flatten())\n",
    "DENSENET_121.add(Dropout(0.2))\n",
    "DENSENET_121.add(Dense(1024, activation='relu'))\n",
    "DENSENET_121.add(Dropout(0.2))\n",
    "DENSENET_121.add(Dense(512, activation='relu'))\n",
    "DENSENET_121.add(Dense(5, activation='softmax'))\n",
    "\n",
    "DENSENET_121.summary()\n",
    "\n",
    "teacher= DENSENET_121\n",
    "\n",
    "# Create the student\n",
    "student = keras.Sequential(\n",
    "    [\n",
    "        keras.Input(shape=(224, 224, 3)),\n",
    "\n",
    "        layers.Conv2D(16, (5, 5), strides=(2, 2), padding=\"same\"),\n",
    "        layers.ReLU(),\n",
    "        layers.MaxPooling2D(pool_size=(2, 2), strides=(2, 2), padding=\"same\"),\n",
    "\n",
    "        layers.Conv2D(32, (3, 3), strides=(2, 2), padding=\"same\"),\n",
    "        layers.ReLU(),\n",
    "        layers.MaxPooling2D(pool_size=(2, 2), strides=(2, 2), padding=\"same\"),\n",
    "\n",
    "\n",
    "        layers.Conv2D(48, (3, 3), strides=(2, 2), padding=\"same\"),\n",
    "        layers.ReLU(),\n",
    "        layers.MaxPooling2D(pool_size=(2, 2), strides=(2, 2), padding=\"same\"),\n",
    "\n",
    "\n",
    "        layers.Conv2D(64, (3, 3), strides=(2, 2), padding=\"same\"),\n",
    "        layers.ReLU(),\n",
    "        layers.MaxPooling2D(pool_size=(2, 2), strides=(2, 2), padding=\"same\"),\n",
    "\n",
    "        layers.Conv2D(128, (3, 3), strides=(1, 1), padding=\"same\"),\n",
    "        layers.ReLU(),\n",
    "        layers.MaxPooling2D(pool_size=(2, 2), strides=(2, 2), padding=\"same\"),\n",
    "\n",
    "        layers.Conv2D(64, (3, 3), strides=(2, 2), padding=\"same\"),\n",
    "        layers.ReLU(),\n",
    "        layers.MaxPooling2D(pool_size=(2, 2), strides=(2, 2), padding=\"same\"),\n",
    "\n",
    "        layers.Flatten(),\n",
    "        layers.Dense(600),\n",
    "        layers.Dense(300),\n",
    "        layers.Dense(150),\n",
    "        layers.Dense(5),\n",
    "\n",
    "\n",
    "    ],\n",
    "    name=\"student\",\n",
    ")\n",
    "student.summary()\n",
    "\n",
    "# Clone student for later comparison\n",
    "student_scratch = keras.models.clone_model(student)\n"
   ]
  },
  {
   "cell_type": "markdown",
   "metadata": {
    "id": "CVkFoX6Msl4H"
   },
   "source": [
    "Train the Teacher Network and Distill the Teacher weights to Student"
   ]
  },
  {
   "cell_type": "code",
   "execution_count": 6,
   "metadata": {
    "colab": {
     "background_save": true,
     "base_uri": "https://localhost:8080/"
    },
    "id": "9rxYbsMKssBk",
    "outputId": "e1e01a38-1784-4c28-83b5-33da0c9780f3",
    "tags": []
   },
   "outputs": [
    {
     "name": "stdout",
     "output_type": "stream",
     "text": [
      "Epoch 1/25\n",
      "69/69 [==============================] - 47s 665ms/step - sparse_categorical_accuracy: 0.3982 - student_loss: 1.5214 - distillation_loss: 0.0080 - val_sparse_categorical_accuracy: 0.4564 - val_student_loss: 1.3558\n",
      "Epoch 2/25\n",
      "69/69 [==============================] - 46s 666ms/step - sparse_categorical_accuracy: 0.4545 - student_loss: 1.4684 - distillation_loss: 0.0100 - val_sparse_categorical_accuracy: 0.4618 - val_student_loss: 1.3594\n",
      "Epoch 3/25\n",
      "69/69 [==============================] - 47s 684ms/step - sparse_categorical_accuracy: 0.4764 - student_loss: 1.4594 - distillation_loss: 0.0104 - val_sparse_categorical_accuracy: 0.6091 - val_student_loss: 1.4185\n",
      "Epoch 4/25\n",
      "69/69 [==============================] - 47s 677ms/step - sparse_categorical_accuracy: 0.5336 - student_loss: 1.4543 - distillation_loss: 0.0105 - val_sparse_categorical_accuracy: 0.5818 - val_student_loss: 1.3379\n",
      "Epoch 5/25\n",
      "69/69 [==============================] - 47s 673ms/step - sparse_categorical_accuracy: 0.5564 - student_loss: 1.4473 - distillation_loss: 0.0109 - val_sparse_categorical_accuracy: 0.5636 - val_student_loss: 1.4989\n",
      "Epoch 6/25\n",
      "69/69 [==============================] - 48s 688ms/step - sparse_categorical_accuracy: 0.5832 - student_loss: 1.4428 - distillation_loss: 0.0111 - val_sparse_categorical_accuracy: 0.5400 - val_student_loss: 1.4717\n",
      "Epoch 7/25\n",
      "69/69 [==============================] - 47s 685ms/step - sparse_categorical_accuracy: 0.5891 - student_loss: 1.4375 - distillation_loss: 0.0113 - val_sparse_categorical_accuracy: 0.5600 - val_student_loss: 1.3729\n",
      "Epoch 8/25\n",
      "69/69 [==============================] - 48s 688ms/step - sparse_categorical_accuracy: 0.5836 - student_loss: 1.4365 - distillation_loss: 0.0114 - val_sparse_categorical_accuracy: 0.5927 - val_student_loss: 1.4467\n",
      "Epoch 9/25\n",
      "69/69 [==============================] - 49s 712ms/step - sparse_categorical_accuracy: 0.6005 - student_loss: 1.4324 - distillation_loss: 0.0115 - val_sparse_categorical_accuracy: 0.6291 - val_student_loss: 1.2994\n",
      "Epoch 10/25\n",
      "69/69 [==============================] - 49s 706ms/step - sparse_categorical_accuracy: 0.6059 - student_loss: 1.4323 - distillation_loss: 0.0115 - val_sparse_categorical_accuracy: 0.5964 - val_student_loss: 1.3860\n",
      "Epoch 11/25\n",
      "69/69 [==============================] - 48s 688ms/step - sparse_categorical_accuracy: 0.5991 - student_loss: 1.4262 - distillation_loss: 0.0119 - val_sparse_categorical_accuracy: 0.6200 - val_student_loss: 1.3177\n",
      "Epoch 12/25\n",
      "69/69 [==============================] - 50s 718ms/step - sparse_categorical_accuracy: 0.6186 - student_loss: 1.4224 - distillation_loss: 0.0119 - val_sparse_categorical_accuracy: 0.6400 - val_student_loss: 1.3490\n",
      "Epoch 13/25\n",
      "69/69 [==============================] - 52s 748ms/step - sparse_categorical_accuracy: 0.6127 - student_loss: 1.4211 - distillation_loss: 0.0121 - val_sparse_categorical_accuracy: 0.6218 - val_student_loss: 1.5176\n",
      "Epoch 14/25\n",
      "69/69 [==============================] - 54s 783ms/step - sparse_categorical_accuracy: 0.6191 - student_loss: 1.4208 - distillation_loss: 0.0120 - val_sparse_categorical_accuracy: 0.5927 - val_student_loss: 1.3269\n",
      "Epoch 15/25\n",
      "69/69 [==============================] - 51s 729ms/step - sparse_categorical_accuracy: 0.6341 - student_loss: 1.4184 - distillation_loss: 0.0121 - val_sparse_categorical_accuracy: 0.5418 - val_student_loss: 1.5214\n",
      "Epoch 16/25\n",
      "69/69 [==============================] - 50s 720ms/step - sparse_categorical_accuracy: 0.6132 - student_loss: 1.4167 - distillation_loss: 0.0122 - val_sparse_categorical_accuracy: 0.5891 - val_student_loss: 1.3552\n",
      "Epoch 17/25\n",
      "69/69 [==============================] - 54s 779ms/step - sparse_categorical_accuracy: 0.6545 - student_loss: 1.4104 - distillation_loss: 0.0125 - val_sparse_categorical_accuracy: 0.6309 - val_student_loss: 1.6641\n",
      "Epoch 18/25\n",
      "69/69 [==============================] - 49s 711ms/step - sparse_categorical_accuracy: 0.6495 - student_loss: 1.4105 - distillation_loss: 0.0125 - val_sparse_categorical_accuracy: 0.5709 - val_student_loss: 1.4463\n",
      "Epoch 19/25\n",
      "69/69 [==============================] - 50s 722ms/step - sparse_categorical_accuracy: 0.6573 - student_loss: 1.4056 - distillation_loss: 0.0127 - val_sparse_categorical_accuracy: 0.5818 - val_student_loss: 1.3634\n",
      "Epoch 20/25\n",
      "69/69 [==============================] - 50s 720ms/step - sparse_categorical_accuracy: 0.6586 - student_loss: 1.4034 - distillation_loss: 0.0127 - val_sparse_categorical_accuracy: 0.6455 - val_student_loss: 1.3463\n",
      "Epoch 21/25\n",
      "69/69 [==============================] - 49s 713ms/step - sparse_categorical_accuracy: 0.6891 - student_loss: 1.3928 - distillation_loss: 0.0132 - val_sparse_categorical_accuracy: 0.6309 - val_student_loss: 1.5135\n",
      "Epoch 22/25\n",
      "69/69 [==============================] - 51s 737ms/step - sparse_categorical_accuracy: 0.6941 - student_loss: 1.3879 - distillation_loss: 0.0135 - val_sparse_categorical_accuracy: 0.5473 - val_student_loss: 1.3938\n",
      "Epoch 23/25\n",
      "69/69 [==============================] - 49s 710ms/step - sparse_categorical_accuracy: 0.6936 - student_loss: 1.3881 - distillation_loss: 0.0135 - val_sparse_categorical_accuracy: 0.6345 - val_student_loss: 1.5122\n",
      "Epoch 24/25\n",
      "69/69 [==============================] - 50s 727ms/step - sparse_categorical_accuracy: 0.7073 - student_loss: 1.3773 - distillation_loss: 0.0140 - val_sparse_categorical_accuracy: 0.5982 - val_student_loss: 1.4623\n",
      "Epoch 25/25\n",
      "69/69 [==============================] - 50s 732ms/step - sparse_categorical_accuracy: 0.7100 - student_loss: 1.3800 - distillation_loss: 0.0139 - val_sparse_categorical_accuracy: 0.6473 - val_student_loss: 1.4498\n"
     ]
    },
    {
     "data": {
      "text/plain": [
       "<keras.src.callbacks.History at 0x1737705d0>"
      ]
     },
     "execution_count": 6,
     "metadata": {},
     "output_type": "execute_result"
    }
   ],
   "source": [
    " #Initialize and compile distiller\n",
    "distiller = Distiller(student=student, teacher=teacher)\n",
    "distiller.compile(\n",
    "    optimizer=keras.optimizers.Adam(),\n",
    "    metrics=[keras.metrics.SparseCategoricalAccuracy()],\n",
    "    student_loss_fn=keras.losses.SparseCategoricalCrossentropy(from_logits=True),\n",
    "    distillation_loss_fn=keras.losses.KLDivergence(),\n",
    "    alpha=0.1,\n",
    "    temperature=6,\n",
    ")\n",
    "\n",
    "# Distill teacher to student\n",
    "graph=distiller.fit(train_generator, epochs=25, validation_data = validation_generator)\n",
    "graph\n",
    "\n",
    "# Evaluate student on test dataset\n",
    "#distiller.evaluate(train_generator, epochs=15, validation_data = validation_generator)"
   ]
  },
  {
   "cell_type": "code",
   "execution_count": null,
   "metadata": {
    "id": "GzQjS5y-FE02"
   },
   "outputs": [],
   "source": []
  },
  {
   "cell_type": "code",
   "execution_count": 7,
   "metadata": {
    "colab": {
     "base_uri": "https://localhost:8080/",
     "height": 268
    },
    "id": "1mIIoSYp115J",
    "outputId": "c194ce2f-fb7d-4c26-c626-3986e7a8433b",
    "tags": []
   },
   "outputs": [
    {
     "data": {
      "image/png": "[encoded data removed]",
      "text/plain": [
       "<Figure size 640x480 with 1 Axes>"
      ]
     },
     "metadata": {},
     "output_type": "display_data"
    }
   ],
   "source": [
    "import matplotlib.pyplot as plt\n",
    "\n",
    "fig1 = plt.gcf()\n",
    "\n",
    "plt.plot(graph.history['sparse_categorical_accuracy'])\n",
    "plt.plot(graph.history['val_sparse_categorical_accuracy'])\n",
    "\n",
    "# plt.axis(ymin=0.4, ymax=1)\n",
    "plt.grid()\n",
    "\n",
    "plt.title('OSPS-MicroNet model Accuracy to its teacher Inceptionv')\n",
    "plt.ylabel('Accuracy')\n",
    "plt.xlabel('Epochs')\n",
    "plt.legend(['train','validation'])\n",
    "\n",
    "plt.show()"
   ]
  },
  {
   "cell_type": "code",
   "execution_count": 8,
   "metadata": {
    "colab": {
     "base_uri": "https://localhost:8080/",
     "height": 197
    },
    "id": "M5komxG_zgBG",
    "outputId": "4170f11d-e9c3-413a-a026-6d138334f34d",
    "tags": []
   },
   "outputs": [
    {
     "name": "stdout",
     "output_type": "stream",
     "text": [
      "The highest accuracy achieved for OSPS-MicroNet model Accuracy to its teacher Densenet121 model is 64.72727060317993\n"
     ]
    }
   ],
   "source": [
    "max_acc = max(graph.history['val_sparse_categorical_accuracy'])\n",
    "print('The highest accuracy achieved for OSPS-MicroNet model Accuracy to its teacher Densenet121 model is',max_acc*100)"
   ]
  },
  {
   "cell_type": "code",
   "execution_count": null,
   "metadata": {},
   "outputs": [],
   "source": []
  }
 ],
 "metadata": {
  "accelerator": "TPU",
  "colab": {
   "gpuClass": "premium",
   "machine_shape": "hm",
   "provenance": []
  },
  "gpuClass": "premium",
  "kernelspec": {
   "display_name": "Python 3 (ipykernel)",
   "language": "python",
   "name": "python3"
  },
  "language_info": {
   "codemirror_mode": {
    "name": "ipython",
    "version": 3
   },
   "file_extension": ".py",
   "mimetype": "text/x-python",
   "name": "python",
   "nbconvert_exporter": "python",
   "pygments_lexer": "ipython3",
   "version": "3.11.5"
  }
 },
 "nbformat": 4,
 "nbformat_minor": 4
}
