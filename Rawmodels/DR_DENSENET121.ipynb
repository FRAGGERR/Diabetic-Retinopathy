{
  "cells": [
    {
      "cell_type": "code",
      "execution_count": 1,
      "metadata": {
        "colab": {
          "base_uri": "https://localhost:8080/"
        },
        "id": "2ktmtj7SdwYr",
        "outputId": "141f7ba5-8aa1-419d-886c-be6ceb236456"
      },
      "outputs": [
        {
          "output_type": "stream",
          "name": "stdout",
          "text": [
            "Mounted at /content/drive\n"
          ]
        }
      ],
      "source": [
        "from google.colab import drive\n",
        "drive.mount('/content/drive')"
      ]
    },
    {
      "cell_type": "code",
      "execution_count": 5,
      "metadata": {
        "id": "CYb2lpihn83b"
      },
      "outputs": [],
      "source": [
        "from keras.models import Model\n",
        "from keras.layers import Input, Conv2D, MaxPooling2D, AveragePooling2D\n",
        "from tensorflow.keras.layers import concatenate\n",
        "from keras.preprocessing.image import ImageDataGenerator\n",
        "from tensorflow.keras.layers import Flatten, Dense, Activation, BatchNormalization\n",
        "from keras.callbacks import ModelCheckpoint, EarlyStopping\n",
        "from keras.models import Sequential\n",
        "from tensorflow.keras.layers import Flatten, Dense, Dropout\n",
        "from tensorflow.keras.layers import Conv2D, MaxPooling2D, ZeroPadding2D\n",
        "from tensorflow.keras.optimizers import SGD\n",
        "import cv2\n",
        "import numpy as np\n"
      ]
    },
    {
      "cell_type": "code",
      "execution_count": 7,
      "metadata": {
        "colab": {
          "base_uri": "https://localhost:8080/"
        },
        "id": "I1UNXHvkn83h",
        "outputId": "81a20def-9341-4ad1-b9a4-6b51abface93"
      },
      "outputs": [
        {
          "output_type": "stream",
          "name": "stdout",
          "text": [
            "Found 2248 images belonging to 5 classes.\n",
            "Found 562 images belonging to 5 classes.\n"
          ]
        }
      ],
      "source": [
        "train_datagen_with_aug = ImageDataGenerator(rescale=1./255,\n",
        "                                   horizontal_flip=True,\n",
        "                                   shear_range=0.2,\n",
        "                                   zoom_range=[0.2,0.5],\n",
        "                                   width_shift_range = 0.3,\n",
        "                                   height_shift_range = 0.3,\n",
        "                                   validation_split=0.2)\n",
        "\n",
        "train_generator = train_datagen_with_aug.flow_from_directory(\n",
        "    r'/content/drive/MyDrive/DR-IMG_SET',\n",
        "    target_size=(224, 224),\n",
        "    batch_size=32,\n",
        "    # color_mode='grayscale',\n",
        "    class_mode='categorical',\n",
        "    subset='training'\n",
        "    ) # set as training data\n",
        "\n",
        "validation_generator = train_datagen_with_aug.flow_from_directory(\n",
        "    r'/content/drive/MyDrive/DR-IMG_SET', # same directory as training data\n",
        "    target_size=(224, 224),\n",
        "    batch_size=32,\n",
        "    # color_mode='grayscale',\n",
        "    class_mode='categorical',\n",
        "    subset='validation'\n",
        "    ) # set as validation data\n",
        "\n",
        "input_img = Input(shape=(224, 224, 3))"
      ]
    },
    {
      "cell_type": "code",
      "execution_count": 8,
      "metadata": {
        "id": "zVLmMxQ3n83n",
        "colab": {
          "base_uri": "https://localhost:8080/"
        },
        "outputId": "c715feef-5e99-42e6-c91e-506d6d5db834"
      },
      "outputs": [
        {
          "output_type": "stream",
          "name": "stdout",
          "text": [
            "Downloading data from https://storage.googleapis.com/tensorflow/keras-applications/densenet/densenet121_weights_tf_dim_ordering_tf_kernels_notop.h5\n",
            "29084464/29084464 [==============================] - 1s 0us/step\n"
          ]
        }
      ],
      "source": [
        "from keras.applications import densenet\n",
        "\n",
        "DENSENET = Sequential()\n",
        "\n",
        "densenet_model = keras.applications.densenet.DenseNet121(\n",
        "    include_top=False, weights='imagenet',\n",
        "    input_shape=(224,224,3), pooling='max', classes=5\n",
        ")"
      ]
    },
    {
      "cell_type": "code",
      "execution_count": 9,
      "metadata": {
        "colab": {
          "base_uri": "https://localhost:8080/"
        },
        "id": "qFqeu7cMn83p",
        "outputId": "a11999bf-4323-42d5-a998-26a7d85055d4"
      },
      "outputs": [
        {
          "output_type": "stream",
          "name": "stdout",
          "text": [
            "Model: \"sequential\"\n",
            "_________________________________________________________________\n",
            " Layer (type)                Output Shape              Param #   \n",
            "=================================================================\n",
            " densenet121 (Functional)    (None, 1024)              7037504   \n",
            "                                                                 \n",
            " flatten (Flatten)           (None, 1024)              0         \n",
            "                                                                 \n",
            " dense (Dense)               (None, 512)               524800    \n",
            "                                                                 \n",
            " dense_1 (Dense)             (None, 5)                 2565      \n",
            "                                                                 \n",
            "=================================================================\n",
            "Total params: 7564869 (28.86 MB)\n",
            "Trainable params: 527365 (2.01 MB)\n",
            "Non-trainable params: 7037504 (26.85 MB)\n",
            "_________________________________________________________________\n",
            "Epoch 1/25\n",
            "71/71 [==============================] - 979s 14s/step - loss: 1.7392 - accuracy: 0.4760 - val_loss: 1.3020 - val_accuracy: 0.5658\n",
            "Epoch 2/25\n",
            "71/71 [==============================] - 45s 636ms/step - loss: 1.2091 - accuracy: 0.5374 - val_loss: 1.1993 - val_accuracy: 0.5676\n",
            "Epoch 3/25\n",
            "71/71 [==============================] - 48s 675ms/step - loss: 1.1522 - accuracy: 0.5663 - val_loss: 1.1179 - val_accuracy: 0.5747\n",
            "Epoch 4/25\n",
            "71/71 [==============================] - 47s 660ms/step - loss: 1.1107 - accuracy: 0.5854 - val_loss: 1.0924 - val_accuracy: 0.5925\n",
            "Epoch 5/25\n",
            "71/71 [==============================] - 47s 652ms/step - loss: 1.0954 - accuracy: 0.5859 - val_loss: 1.1215 - val_accuracy: 0.5427\n",
            "Epoch 6/25\n",
            "71/71 [==============================] - 45s 641ms/step - loss: 1.0797 - accuracy: 0.6041 - val_loss: 1.0810 - val_accuracy: 0.5836\n",
            "Epoch 7/25\n",
            "71/71 [==============================] - 47s 666ms/step - loss: 1.0715 - accuracy: 0.5859 - val_loss: 1.0720 - val_accuracy: 0.5996\n",
            "Epoch 8/25\n",
            "71/71 [==============================] - 48s 673ms/step - loss: 1.0648 - accuracy: 0.6023 - val_loss: 1.0290 - val_accuracy: 0.6121\n",
            "Epoch 9/25\n",
            "71/71 [==============================] - 46s 651ms/step - loss: 1.0563 - accuracy: 0.5948 - val_loss: 1.0737 - val_accuracy: 0.5943\n",
            "Epoch 10/25\n",
            "71/71 [==============================] - 46s 644ms/step - loss: 1.0541 - accuracy: 0.6032 - val_loss: 1.0774 - val_accuracy: 0.6032\n",
            "Epoch 11/25\n",
            "71/71 [==============================] - 50s 700ms/step - loss: 1.0617 - accuracy: 0.6005 - val_loss: 0.9985 - val_accuracy: 0.6210\n",
            "Epoch 12/25\n",
            "71/71 [==============================] - 46s 647ms/step - loss: 1.0379 - accuracy: 0.6063 - val_loss: 1.0692 - val_accuracy: 0.5872\n",
            "Epoch 13/25\n",
            "71/71 [==============================] - 45s 638ms/step - loss: 1.0443 - accuracy: 0.5996 - val_loss: 1.1163 - val_accuracy: 0.5890\n",
            "Epoch 14/25\n",
            "71/71 [==============================] - 46s 645ms/step - loss: 1.0271 - accuracy: 0.6117 - val_loss: 1.0550 - val_accuracy: 0.6014\n",
            "Epoch 15/25\n",
            "71/71 [==============================] - 47s 665ms/step - loss: 1.0485 - accuracy: 0.6063 - val_loss: 1.0320 - val_accuracy: 0.6139\n",
            "Epoch 16/25\n",
            "71/71 [==============================] - 45s 638ms/step - loss: 1.0348 - accuracy: 0.6036 - val_loss: 1.0350 - val_accuracy: 0.5872\n",
            "Epoch 17/25\n",
            "71/71 [==============================] - 46s 645ms/step - loss: 1.0242 - accuracy: 0.6108 - val_loss: 1.0559 - val_accuracy: 0.6068\n",
            "Epoch 18/25\n",
            "71/71 [==============================] - 45s 639ms/step - loss: 1.0171 - accuracy: 0.6121 - val_loss: 1.0617 - val_accuracy: 0.5979\n",
            "Epoch 19/25\n",
            "71/71 [==============================] - 49s 686ms/step - loss: 1.0392 - accuracy: 0.5956 - val_loss: 1.0730 - val_accuracy: 0.6050\n",
            "Epoch 20/25\n",
            "71/71 [==============================] - 46s 648ms/step - loss: 1.0038 - accuracy: 0.6206 - val_loss: 1.0323 - val_accuracy: 0.5943\n",
            "Epoch 21/25\n",
            "71/71 [==============================] - 45s 641ms/step - loss: 1.0103 - accuracy: 0.6241 - val_loss: 1.0438 - val_accuracy: 0.5961\n",
            "Epoch 22/25\n",
            "71/71 [==============================] - 47s 671ms/step - loss: 1.0151 - accuracy: 0.6099 - val_loss: 1.0225 - val_accuracy: 0.6157\n",
            "Epoch 23/25\n",
            "71/71 [==============================] - 46s 650ms/step - loss: 1.0160 - accuracy: 0.6121 - val_loss: 1.0461 - val_accuracy: 0.6068\n",
            "Epoch 24/25\n",
            "71/71 [==============================] - 47s 656ms/step - loss: 1.0065 - accuracy: 0.6183 - val_loss: 1.0698 - val_accuracy: 0.5961\n",
            "Epoch 25/25\n",
            "71/71 [==============================] - 46s 646ms/step - loss: 1.0365 - accuracy: 0.6068 - val_loss: 1.0009 - val_accuracy: 0.6157\n"
          ]
        },
        {
          "output_type": "execute_result",
          "data": {
            "text/plain": [
              "<keras.src.callbacks.History at 0x7cf7d6856b60>"
            ]
          },
          "metadata": {},
          "execution_count": 9
        }
      ],
      "source": [
        "for layer in densenet_model.layers:\n",
        "    layer.trainable = False\n",
        "\n",
        "DENSENET.add(densenet_model)\n",
        "DENSENET.add(Flatten())\n",
        "DENSENET.add(Dense(512,activation='relu'))\n",
        "DENSENET.add(Dense(5, activation='softmax'))\n",
        "\n",
        "DENSENET.summary()\n",
        "\n",
        "#adam = keras.optimizers.Adam(learning_rate=0.01)\n",
        "SGD = keras.optimizers.SGD(learning_rate=0.0001)\n",
        "DENSENET.compile(optimizer='SGD',loss='categorical_crossentropy', metrics=['accuracy'])\n",
        "\n",
        "graph = DENSENET.fit(train_generator, epochs=25, validation_data = validation_generator)\n",
        "graph\n",
        "\n"
      ]
    },
    {
      "cell_type": "code",
      "execution_count": null,
      "metadata": {
        "id": "RHmNnwncfW8O"
      },
      "outputs": [],
      "source": []
    },
    {
      "cell_type": "code",
      "execution_count": 1,
      "metadata": {
        "id": "3s7QI8Txn83r",
        "colab": {
          "base_uri": "https://localhost:8080/",
          "height": 268
        },
        "outputId": "69ee5d17-6cb6-4c4b-92b0-4a69d209894f"
      },
      "outputs": [
        {
          "output_type": "error",
          "ename": "NameError",
          "evalue": "ignored",
          "traceback": [
            "\u001b[0;31m---------------------------------------------------------------------------\u001b[0m",
            "\u001b[0;31mNameError\u001b[0m                                 Traceback (most recent call last)",
            "\u001b[0;32m<ipython-input-1-a85b89beb79b>\u001b[0m in \u001b[0;36m<cell line: 5>\u001b[0;34m()\u001b[0m\n\u001b[1;32m      3\u001b[0m \u001b[0mfig1\u001b[0m \u001b[0;34m=\u001b[0m \u001b[0mplt\u001b[0m\u001b[0;34m.\u001b[0m\u001b[0mgcf\u001b[0m\u001b[0;34m(\u001b[0m\u001b[0;34m)\u001b[0m\u001b[0;34m\u001b[0m\u001b[0;34m\u001b[0m\u001b[0m\n\u001b[1;32m      4\u001b[0m \u001b[0;34m\u001b[0m\u001b[0m\n\u001b[0;32m----> 5\u001b[0;31m \u001b[0mplt\u001b[0m\u001b[0;34m.\u001b[0m\u001b[0mplot\u001b[0m\u001b[0;34m(\u001b[0m\u001b[0mgraph\u001b[0m\u001b[0;34m.\u001b[0m\u001b[0mhistory\u001b[0m\u001b[0;34m[\u001b[0m\u001b[0;34m'accuracy'\u001b[0m\u001b[0;34m]\u001b[0m\u001b[0;34m)\u001b[0m\u001b[0;34m\u001b[0m\u001b[0;34m\u001b[0m\u001b[0m\n\u001b[0m\u001b[1;32m      6\u001b[0m \u001b[0mplt\u001b[0m\u001b[0;34m.\u001b[0m\u001b[0mplot\u001b[0m\u001b[0;34m(\u001b[0m\u001b[0mgraph\u001b[0m\u001b[0;34m.\u001b[0m\u001b[0mhistory\u001b[0m\u001b[0;34m[\u001b[0m\u001b[0;34m'val_accuracy'\u001b[0m\u001b[0;34m]\u001b[0m\u001b[0;34m)\u001b[0m\u001b[0;34m\u001b[0m\u001b[0;34m\u001b[0m\u001b[0m\n\u001b[1;32m      7\u001b[0m \u001b[0;34m\u001b[0m\u001b[0m\n",
            "\u001b[0;31mNameError\u001b[0m: name 'graph' is not defined"
          ]
        },
        {
          "output_type": "display_data",
          "data": {
            "text/plain": [
              "<Figure size 640x480 with 0 Axes>"
            ]
          },
          "metadata": {}
        }
      ],
      "source": [
        "\n",
        "import matplotlib.pyplot as plt\n",
        "\n",
        "fig1 = plt.gcf()\n",
        "\n",
        "plt.plot(graph.history['accuracy'])\n",
        "plt.plot(graph.history['val_accuracy'])\n",
        "\n",
        "# plt.axis(ymin=0.4, ymax=1)\n",
        "plt.grid()\n",
        "\n",
        "plt.title('DenseNet121 Model Accuracy for AGRI Dataset')\n",
        "plt.ylabel('Accuracy')\n",
        "plt.xlabel('Epochs')\n",
        "plt.legend(['train','validation'])\n",
        "\n",
        "plt.show()"
      ]
    },
    {
      "cell_type": "code",
      "execution_count": 2,
      "metadata": {
        "id": "xdfREK58n83t",
        "colab": {
          "base_uri": "https://localhost:8080/",
          "height": 214
        },
        "outputId": "1f8b691b-b34e-404e-bfc4-4d6ad06ebfaa"
      },
      "outputs": [
        {
          "output_type": "error",
          "ename": "NameError",
          "evalue": "ignored",
          "traceback": [
            "\u001b[0;31m---------------------------------------------------------------------------\u001b[0m",
            "\u001b[0;31mNameError\u001b[0m                                 Traceback (most recent call last)",
            "\u001b[0;32m<ipython-input-2-4263e7ccf077>\u001b[0m in \u001b[0;36m<cell line: 1>\u001b[0;34m()\u001b[0m\n\u001b[0;32m----> 1\u001b[0;31m \u001b[0mmax_acc\u001b[0m \u001b[0;34m=\u001b[0m \u001b[0mmax\u001b[0m\u001b[0;34m(\u001b[0m\u001b[0mgraph\u001b[0m\u001b[0;34m.\u001b[0m\u001b[0mhistory\u001b[0m\u001b[0;34m[\u001b[0m\u001b[0;34m'val_accuracy'\u001b[0m\u001b[0;34m]\u001b[0m\u001b[0;34m)\u001b[0m\u001b[0;34m\u001b[0m\u001b[0;34m\u001b[0m\u001b[0m\n\u001b[0m\u001b[1;32m      2\u001b[0m \u001b[0;34m\u001b[0m\u001b[0m\n\u001b[1;32m      3\u001b[0m \u001b[0mprint\u001b[0m\u001b[0;34m(\u001b[0m\u001b[0;34m'The highest accuracy achieved using DenseNet121 model is'\u001b[0m\u001b[0;34m,\u001b[0m\u001b[0mmax_acc\u001b[0m\u001b[0;34m*\u001b[0m\u001b[0;36m100\u001b[0m\u001b[0;34m)\u001b[0m\u001b[0;34m\u001b[0m\u001b[0;34m\u001b[0m\u001b[0m\n",
            "\u001b[0;31mNameError\u001b[0m: name 'graph' is not defined"
          ]
        }
      ],
      "source": [
        "max_acc = max(graph.history['val_accuracy'])\n",
        "\n",
        "print('The highest accuracy achieved using DenseNet121 model is',max_acc*100)"
      ]
    }
  ],
  "metadata": {
    "colab": {
      "provenance": []
    },
    "interpreter": {
      "hash": "9da5a1eb768521143534bf09b996f0d525d45d2d4b488be6c4304e80c1815fea"
    },
    "kernelspec": {
      "display_name": "Python 3.9.7 64-bit ('base': conda)",
      "language": "python",
      "name": "python3"
    },
    "language_info": {
      "codemirror_mode": {
        "name": "ipython",
        "version": 3
      },
      "file_extension": ".py",
      "mimetype": "text/x-python",
      "name": "python",
      "nbconvert_exporter": "python",
      "pygments_lexer": "ipython3",
      "version": "3.7.10"
    },
    "accelerator": "GPU",
    "gpuClass": "standard"
  },
  "nbformat": 4,
  "nbformat_minor": 0
}